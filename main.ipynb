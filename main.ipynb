{
 "cells": [
  {
   "cell_type": "code",
   "execution_count": 1,
   "metadata": {},
   "outputs": [],
   "source": [
    "import numpy as np\n",
    "import pandas as pd\n",
    "import seaborn as sns\n",
    "import networkx as nx\n",
    "import community as louvain\n",
    "import matplotlib.pyplot as plt\n",
    "%matplotlib inline"
   ]
  },
  {
   "cell_type": "code",
   "execution_count": 2,
   "metadata": {},
   "outputs": [
    {
     "data": {
      "text/html": [
       "<div>\n",
       "<style scoped>\n",
       "    .dataframe tbody tr th:only-of-type {\n",
       "        vertical-align: middle;\n",
       "    }\n",
       "\n",
       "    .dataframe tbody tr th {\n",
       "        vertical-align: top;\n",
       "    }\n",
       "\n",
       "    .dataframe thead th {\n",
       "        text-align: right;\n",
       "    }\n",
       "</style>\n",
       "<table border=\"1\" class=\"dataframe\">\n",
       "  <thead>\n",
       "    <tr style=\"text-align: right;\">\n",
       "      <th></th>\n",
       "      <th>step</th>\n",
       "      <th>type</th>\n",
       "      <th>amount</th>\n",
       "      <th>nameOrig</th>\n",
       "      <th>oldbalanceOrg</th>\n",
       "      <th>newbalanceOrig</th>\n",
       "      <th>nameDest</th>\n",
       "      <th>oldbalanceDest</th>\n",
       "      <th>newbalanceDest</th>\n",
       "      <th>isFraud</th>\n",
       "      <th>isFlaggedFraud</th>\n",
       "    </tr>\n",
       "  </thead>\n",
       "  <tbody>\n",
       "    <tr>\n",
       "      <th>0</th>\n",
       "      <td>1</td>\n",
       "      <td>PAYMENT</td>\n",
       "      <td>9839.64</td>\n",
       "      <td>C1231006815</td>\n",
       "      <td>170136.0</td>\n",
       "      <td>160296.36</td>\n",
       "      <td>M1979787155</td>\n",
       "      <td>0.0</td>\n",
       "      <td>0.0</td>\n",
       "      <td>0</td>\n",
       "      <td>0</td>\n",
       "    </tr>\n",
       "    <tr>\n",
       "      <th>1</th>\n",
       "      <td>1</td>\n",
       "      <td>PAYMENT</td>\n",
       "      <td>1864.28</td>\n",
       "      <td>C1666544295</td>\n",
       "      <td>21249.0</td>\n",
       "      <td>19384.72</td>\n",
       "      <td>M2044282225</td>\n",
       "      <td>0.0</td>\n",
       "      <td>0.0</td>\n",
       "      <td>0</td>\n",
       "      <td>0</td>\n",
       "    </tr>\n",
       "    <tr>\n",
       "      <th>2</th>\n",
       "      <td>1</td>\n",
       "      <td>TRANSFER</td>\n",
       "      <td>181.00</td>\n",
       "      <td>C1305486145</td>\n",
       "      <td>181.0</td>\n",
       "      <td>0.00</td>\n",
       "      <td>C553264065</td>\n",
       "      <td>0.0</td>\n",
       "      <td>0.0</td>\n",
       "      <td>1</td>\n",
       "      <td>0</td>\n",
       "    </tr>\n",
       "    <tr>\n",
       "      <th>3</th>\n",
       "      <td>1</td>\n",
       "      <td>CASH_OUT</td>\n",
       "      <td>181.00</td>\n",
       "      <td>C840083671</td>\n",
       "      <td>181.0</td>\n",
       "      <td>0.00</td>\n",
       "      <td>C38997010</td>\n",
       "      <td>21182.0</td>\n",
       "      <td>0.0</td>\n",
       "      <td>1</td>\n",
       "      <td>0</td>\n",
       "    </tr>\n",
       "    <tr>\n",
       "      <th>4</th>\n",
       "      <td>1</td>\n",
       "      <td>PAYMENT</td>\n",
       "      <td>11668.14</td>\n",
       "      <td>C2048537720</td>\n",
       "      <td>41554.0</td>\n",
       "      <td>29885.86</td>\n",
       "      <td>M1230701703</td>\n",
       "      <td>0.0</td>\n",
       "      <td>0.0</td>\n",
       "      <td>0</td>\n",
       "      <td>0</td>\n",
       "    </tr>\n",
       "  </tbody>\n",
       "</table>\n",
       "</div>"
      ],
      "text/plain": [
       "   step      type    amount     nameOrig  oldbalanceOrg  newbalanceOrig  \\\n",
       "0     1   PAYMENT   9839.64  C1231006815       170136.0       160296.36   \n",
       "1     1   PAYMENT   1864.28  C1666544295        21249.0        19384.72   \n",
       "2     1  TRANSFER    181.00  C1305486145          181.0            0.00   \n",
       "3     1  CASH_OUT    181.00   C840083671          181.0            0.00   \n",
       "4     1   PAYMENT  11668.14  C2048537720        41554.0        29885.86   \n",
       "\n",
       "      nameDest  oldbalanceDest  newbalanceDest  isFraud  isFlaggedFraud  \n",
       "0  M1979787155             0.0             0.0        0               0  \n",
       "1  M2044282225             0.0             0.0        0               0  \n",
       "2   C553264065             0.0             0.0        1               0  \n",
       "3    C38997010         21182.0             0.0        1               0  \n",
       "4  M1230701703             0.0             0.0        0               0  "
      ]
     },
     "execution_count": 2,
     "metadata": {},
     "output_type": "execute_result"
    }
   ],
   "source": [
    "df = pd.read_csv(\"data\\PaySim.csv\")\n",
    "df.head()"
   ]
  },
  {
   "cell_type": "code",
   "execution_count": 3,
   "metadata": {},
   "outputs": [
    {
     "data": {
      "text/html": [
       "<div>\n",
       "<style scoped>\n",
       "    .dataframe tbody tr th:only-of-type {\n",
       "        vertical-align: middle;\n",
       "    }\n",
       "\n",
       "    .dataframe tbody tr th {\n",
       "        vertical-align: top;\n",
       "    }\n",
       "\n",
       "    .dataframe thead th {\n",
       "        text-align: right;\n",
       "    }\n",
       "</style>\n",
       "<table border=\"1\" class=\"dataframe\">\n",
       "  <thead>\n",
       "    <tr style=\"text-align: right;\">\n",
       "      <th></th>\n",
       "      <th>step</th>\n",
       "      <th>amount</th>\n",
       "      <th>oldbalanceOrg</th>\n",
       "      <th>newbalanceOrig</th>\n",
       "      <th>oldbalanceDest</th>\n",
       "      <th>newbalanceDest</th>\n",
       "      <th>isFraud</th>\n",
       "      <th>isFlaggedFraud</th>\n",
       "    </tr>\n",
       "  </thead>\n",
       "  <tbody>\n",
       "    <tr>\n",
       "      <th>count</th>\n",
       "      <td>6.362620e+06</td>\n",
       "      <td>6.362620e+06</td>\n",
       "      <td>6.362620e+06</td>\n",
       "      <td>6.362620e+06</td>\n",
       "      <td>6.362620e+06</td>\n",
       "      <td>6.362620e+06</td>\n",
       "      <td>6.362620e+06</td>\n",
       "      <td>6.362620e+06</td>\n",
       "    </tr>\n",
       "    <tr>\n",
       "      <th>mean</th>\n",
       "      <td>2.433972e+02</td>\n",
       "      <td>1.798619e+05</td>\n",
       "      <td>8.338831e+05</td>\n",
       "      <td>8.551137e+05</td>\n",
       "      <td>1.100702e+06</td>\n",
       "      <td>1.224996e+06</td>\n",
       "      <td>1.290820e-03</td>\n",
       "      <td>2.514687e-06</td>\n",
       "    </tr>\n",
       "    <tr>\n",
       "      <th>std</th>\n",
       "      <td>1.423320e+02</td>\n",
       "      <td>6.038582e+05</td>\n",
       "      <td>2.888243e+06</td>\n",
       "      <td>2.924049e+06</td>\n",
       "      <td>3.399180e+06</td>\n",
       "      <td>3.674129e+06</td>\n",
       "      <td>3.590480e-02</td>\n",
       "      <td>1.585775e-03</td>\n",
       "    </tr>\n",
       "    <tr>\n",
       "      <th>min</th>\n",
       "      <td>1.000000e+00</td>\n",
       "      <td>0.000000e+00</td>\n",
       "      <td>0.000000e+00</td>\n",
       "      <td>0.000000e+00</td>\n",
       "      <td>0.000000e+00</td>\n",
       "      <td>0.000000e+00</td>\n",
       "      <td>0.000000e+00</td>\n",
       "      <td>0.000000e+00</td>\n",
       "    </tr>\n",
       "    <tr>\n",
       "      <th>25%</th>\n",
       "      <td>1.560000e+02</td>\n",
       "      <td>1.338957e+04</td>\n",
       "      <td>0.000000e+00</td>\n",
       "      <td>0.000000e+00</td>\n",
       "      <td>0.000000e+00</td>\n",
       "      <td>0.000000e+00</td>\n",
       "      <td>0.000000e+00</td>\n",
       "      <td>0.000000e+00</td>\n",
       "    </tr>\n",
       "    <tr>\n",
       "      <th>50%</th>\n",
       "      <td>2.390000e+02</td>\n",
       "      <td>7.487194e+04</td>\n",
       "      <td>1.420800e+04</td>\n",
       "      <td>0.000000e+00</td>\n",
       "      <td>1.327057e+05</td>\n",
       "      <td>2.146614e+05</td>\n",
       "      <td>0.000000e+00</td>\n",
       "      <td>0.000000e+00</td>\n",
       "    </tr>\n",
       "    <tr>\n",
       "      <th>75%</th>\n",
       "      <td>3.350000e+02</td>\n",
       "      <td>2.087215e+05</td>\n",
       "      <td>1.073152e+05</td>\n",
       "      <td>1.442584e+05</td>\n",
       "      <td>9.430367e+05</td>\n",
       "      <td>1.111909e+06</td>\n",
       "      <td>0.000000e+00</td>\n",
       "      <td>0.000000e+00</td>\n",
       "    </tr>\n",
       "    <tr>\n",
       "      <th>max</th>\n",
       "      <td>7.430000e+02</td>\n",
       "      <td>9.244552e+07</td>\n",
       "      <td>5.958504e+07</td>\n",
       "      <td>4.958504e+07</td>\n",
       "      <td>3.560159e+08</td>\n",
       "      <td>3.561793e+08</td>\n",
       "      <td>1.000000e+00</td>\n",
       "      <td>1.000000e+00</td>\n",
       "    </tr>\n",
       "  </tbody>\n",
       "</table>\n",
       "</div>"
      ],
      "text/plain": [
       "               step        amount  oldbalanceOrg  newbalanceOrig  \\\n",
       "count  6.362620e+06  6.362620e+06   6.362620e+06    6.362620e+06   \n",
       "mean   2.433972e+02  1.798619e+05   8.338831e+05    8.551137e+05   \n",
       "std    1.423320e+02  6.038582e+05   2.888243e+06    2.924049e+06   \n",
       "min    1.000000e+00  0.000000e+00   0.000000e+00    0.000000e+00   \n",
       "25%    1.560000e+02  1.338957e+04   0.000000e+00    0.000000e+00   \n",
       "50%    2.390000e+02  7.487194e+04   1.420800e+04    0.000000e+00   \n",
       "75%    3.350000e+02  2.087215e+05   1.073152e+05    1.442584e+05   \n",
       "max    7.430000e+02  9.244552e+07   5.958504e+07    4.958504e+07   \n",
       "\n",
       "       oldbalanceDest  newbalanceDest       isFraud  isFlaggedFraud  \n",
       "count    6.362620e+06    6.362620e+06  6.362620e+06    6.362620e+06  \n",
       "mean     1.100702e+06    1.224996e+06  1.290820e-03    2.514687e-06  \n",
       "std      3.399180e+06    3.674129e+06  3.590480e-02    1.585775e-03  \n",
       "min      0.000000e+00    0.000000e+00  0.000000e+00    0.000000e+00  \n",
       "25%      0.000000e+00    0.000000e+00  0.000000e+00    0.000000e+00  \n",
       "50%      1.327057e+05    2.146614e+05  0.000000e+00    0.000000e+00  \n",
       "75%      9.430367e+05    1.111909e+06  0.000000e+00    0.000000e+00  \n",
       "max      3.560159e+08    3.561793e+08  1.000000e+00    1.000000e+00  "
      ]
     },
     "execution_count": 3,
     "metadata": {},
     "output_type": "execute_result"
    }
   ],
   "source": [
    "df.describe()"
   ]
  },
  {
   "cell_type": "code",
   "execution_count": 4,
   "metadata": {},
   "outputs": [
    {
     "name": "stdout",
     "output_type": "stream",
     "text": [
      "(6362620, 11)\n"
     ]
    },
    {
     "data": {
      "text/plain": [
       "step              0\n",
       "type              0\n",
       "amount            0\n",
       "nameOrig          0\n",
       "oldbalanceOrg     0\n",
       "newbalanceOrig    0\n",
       "nameDest          0\n",
       "oldbalanceDest    0\n",
       "newbalanceDest    0\n",
       "isFraud           0\n",
       "isFlaggedFraud    0\n",
       "dtype: int64"
      ]
     },
     "execution_count": 4,
     "metadata": {},
     "output_type": "execute_result"
    }
   ],
   "source": [
    "print(df.shape)\n",
    "df.isnull().sum()"
   ]
  },
  {
   "cell_type": "code",
   "execution_count": 5,
   "metadata": {},
   "outputs": [
    {
     "name": "stdout",
     "output_type": "stream",
     "text": [
      "isFraud\n",
      "0    6354407\n",
      "1       8213\n",
      "Name: count, dtype: int64\n"
     ]
    }
   ],
   "source": [
    "fraud_counts = df['isFraud'].value_counts()\n",
    "print(fraud_counts)"
   ]
  },
  {
   "cell_type": "code",
   "execution_count": 6,
   "metadata": {},
   "outputs": [
    {
     "name": "stdout",
     "output_type": "stream",
     "text": [
      "% fraud count = 0.12908204481801522\n"
     ]
    }
   ],
   "source": [
    "print(f\"% fraud count = {fraud_counts[1]/(fraud_counts[0]+fraud_counts[1]) * 100}\")"
   ]
  },
  {
   "cell_type": "code",
   "execution_count": 7,
   "metadata": {},
   "outputs": [
    {
     "data": {
      "image/png": "[encoded data removed]",
      "text/plain": [
       "<Figure size 640x480 with 2 Axes>"
      ]
     },
     "metadata": {},
     "output_type": "display_data"
    }
   ],
   "source": [
    "correlation_matrix = df[['oldbalanceDest', 'newbalanceDest', 'isFraud']].corr()\n",
    "sns.heatmap(correlation_matrix, annot=True, cmap='coolwarm')\n",
    "plt.show()"
   ]
  },
  {
   "cell_type": "code",
   "execution_count": 8,
   "metadata": {},
   "outputs": [
    {
     "data": {
      "text/html": [
       "<div>\n",
       "<style scoped>\n",
       "    .dataframe tbody tr th:only-of-type {\n",
       "        vertical-align: middle;\n",
       "    }\n",
       "\n",
       "    .dataframe tbody tr th {\n",
       "        vertical-align: top;\n",
       "    }\n",
       "\n",
       "    .dataframe thead th {\n",
       "        text-align: right;\n",
       "    }\n",
       "</style>\n",
       "<table border=\"1\" class=\"dataframe\">\n",
       "  <thead>\n",
       "    <tr style=\"text-align: right;\">\n",
       "      <th></th>\n",
       "      <th>step</th>\n",
       "      <th>type</th>\n",
       "      <th>amount</th>\n",
       "      <th>nameOrig</th>\n",
       "      <th>oldbalanceOrg</th>\n",
       "      <th>newbalanceOrig</th>\n",
       "      <th>nameDest</th>\n",
       "      <th>oldbalanceDest</th>\n",
       "      <th>newbalanceDest</th>\n",
       "      <th>isFraud</th>\n",
       "      <th>isFlaggedFraud</th>\n",
       "      <th>balanceDiffOrig</th>\n",
       "      <th>balanceDiffDest</th>\n",
       "    </tr>\n",
       "  </thead>\n",
       "  <tbody>\n",
       "    <tr>\n",
       "      <th>0</th>\n",
       "      <td>1</td>\n",
       "      <td>PAYMENT</td>\n",
       "      <td>9839.64</td>\n",
       "      <td>C1231006815</td>\n",
       "      <td>170136.00</td>\n",
       "      <td>160296.36</td>\n",
       "      <td>M1979787155</td>\n",
       "      <td>0.0</td>\n",
       "      <td>0.00</td>\n",
       "      <td>0</td>\n",
       "      <td>0</td>\n",
       "      <td>-9839.64</td>\n",
       "      <td>0.00</td>\n",
       "    </tr>\n",
       "    <tr>\n",
       "      <th>1</th>\n",
       "      <td>1</td>\n",
       "      <td>PAYMENT</td>\n",
       "      <td>1864.28</td>\n",
       "      <td>C1666544295</td>\n",
       "      <td>21249.00</td>\n",
       "      <td>19384.72</td>\n",
       "      <td>M2044282225</td>\n",
       "      <td>0.0</td>\n",
       "      <td>0.00</td>\n",
       "      <td>0</td>\n",
       "      <td>0</td>\n",
       "      <td>-1864.28</td>\n",
       "      <td>0.00</td>\n",
       "    </tr>\n",
       "    <tr>\n",
       "      <th>2</th>\n",
       "      <td>1</td>\n",
       "      <td>TRANSFER</td>\n",
       "      <td>181.00</td>\n",
       "      <td>C1305486145</td>\n",
       "      <td>181.00</td>\n",
       "      <td>0.00</td>\n",
       "      <td>C553264065</td>\n",
       "      <td>0.0</td>\n",
       "      <td>0.00</td>\n",
       "      <td>1</td>\n",
       "      <td>0</td>\n",
       "      <td>-181.00</td>\n",
       "      <td>0.00</td>\n",
       "    </tr>\n",
       "    <tr>\n",
       "      <th>3</th>\n",
       "      <td>1</td>\n",
       "      <td>CASH_OUT</td>\n",
       "      <td>181.00</td>\n",
       "      <td>C840083671</td>\n",
       "      <td>181.00</td>\n",
       "      <td>0.00</td>\n",
       "      <td>C38997010</td>\n",
       "      <td>21182.0</td>\n",
       "      <td>0.00</td>\n",
       "      <td>1</td>\n",
       "      <td>0</td>\n",
       "      <td>-181.00</td>\n",
       "      <td>-21182.00</td>\n",
       "    </tr>\n",
       "    <tr>\n",
       "      <th>4</th>\n",
       "      <td>1</td>\n",
       "      <td>PAYMENT</td>\n",
       "      <td>11668.14</td>\n",
       "      <td>C2048537720</td>\n",
       "      <td>41554.00</td>\n",
       "      <td>29885.86</td>\n",
       "      <td>M1230701703</td>\n",
       "      <td>0.0</td>\n",
       "      <td>0.00</td>\n",
       "      <td>0</td>\n",
       "      <td>0</td>\n",
       "      <td>-11668.14</td>\n",
       "      <td>0.00</td>\n",
       "    </tr>\n",
       "    <tr>\n",
       "      <th>5</th>\n",
       "      <td>1</td>\n",
       "      <td>PAYMENT</td>\n",
       "      <td>7817.71</td>\n",
       "      <td>C90045638</td>\n",
       "      <td>53860.00</td>\n",
       "      <td>46042.29</td>\n",
       "      <td>M573487274</td>\n",
       "      <td>0.0</td>\n",
       "      <td>0.00</td>\n",
       "      <td>0</td>\n",
       "      <td>0</td>\n",
       "      <td>-7817.71</td>\n",
       "      <td>0.00</td>\n",
       "    </tr>\n",
       "    <tr>\n",
       "      <th>6</th>\n",
       "      <td>1</td>\n",
       "      <td>PAYMENT</td>\n",
       "      <td>7107.77</td>\n",
       "      <td>C154988899</td>\n",
       "      <td>183195.00</td>\n",
       "      <td>176087.23</td>\n",
       "      <td>M408069119</td>\n",
       "      <td>0.0</td>\n",
       "      <td>0.00</td>\n",
       "      <td>0</td>\n",
       "      <td>0</td>\n",
       "      <td>-7107.77</td>\n",
       "      <td>0.00</td>\n",
       "    </tr>\n",
       "    <tr>\n",
       "      <th>7</th>\n",
       "      <td>1</td>\n",
       "      <td>PAYMENT</td>\n",
       "      <td>7861.64</td>\n",
       "      <td>C1912850431</td>\n",
       "      <td>176087.23</td>\n",
       "      <td>168225.59</td>\n",
       "      <td>M633326333</td>\n",
       "      <td>0.0</td>\n",
       "      <td>0.00</td>\n",
       "      <td>0</td>\n",
       "      <td>0</td>\n",
       "      <td>-7861.64</td>\n",
       "      <td>0.00</td>\n",
       "    </tr>\n",
       "    <tr>\n",
       "      <th>8</th>\n",
       "      <td>1</td>\n",
       "      <td>PAYMENT</td>\n",
       "      <td>4024.36</td>\n",
       "      <td>C1265012928</td>\n",
       "      <td>2671.00</td>\n",
       "      <td>0.00</td>\n",
       "      <td>M1176932104</td>\n",
       "      <td>0.0</td>\n",
       "      <td>0.00</td>\n",
       "      <td>0</td>\n",
       "      <td>0</td>\n",
       "      <td>-2671.00</td>\n",
       "      <td>0.00</td>\n",
       "    </tr>\n",
       "    <tr>\n",
       "      <th>9</th>\n",
       "      <td>1</td>\n",
       "      <td>DEBIT</td>\n",
       "      <td>5337.77</td>\n",
       "      <td>C712410124</td>\n",
       "      <td>41720.00</td>\n",
       "      <td>36382.23</td>\n",
       "      <td>C195600860</td>\n",
       "      <td>41898.0</td>\n",
       "      <td>40348.79</td>\n",
       "      <td>0</td>\n",
       "      <td>0</td>\n",
       "      <td>-5337.77</td>\n",
       "      <td>-1549.21</td>\n",
       "    </tr>\n",
       "  </tbody>\n",
       "</table>\n",
       "</div>"
      ],
      "text/plain": [
       "   step      type    amount     nameOrig  oldbalanceOrg  newbalanceOrig  \\\n",
       "0     1   PAYMENT   9839.64  C1231006815      170136.00       160296.36   \n",
       "1     1   PAYMENT   1864.28  C1666544295       21249.00        19384.72   \n",
       "2     1  TRANSFER    181.00  C1305486145         181.00            0.00   \n",
       "3     1  CASH_OUT    181.00   C840083671         181.00            0.00   \n",
       "4     1   PAYMENT  11668.14  C2048537720       41554.00        29885.86   \n",
       "5     1   PAYMENT   7817.71    C90045638       53860.00        46042.29   \n",
       "6     1   PAYMENT   7107.77   C154988899      183195.00       176087.23   \n",
       "7     1   PAYMENT   7861.64  C1912850431      176087.23       168225.59   \n",
       "8     1   PAYMENT   4024.36  C1265012928        2671.00            0.00   \n",
       "9     1     DEBIT   5337.77   C712410124       41720.00        36382.23   \n",
       "\n",
       "      nameDest  oldbalanceDest  newbalanceDest  isFraud  isFlaggedFraud  \\\n",
       "0  M1979787155             0.0            0.00        0               0   \n",
       "1  M2044282225             0.0            0.00        0               0   \n",
       "2   C553264065             0.0            0.00        1               0   \n",
       "3    C38997010         21182.0            0.00        1               0   \n",
       "4  M1230701703             0.0            0.00        0               0   \n",
       "5   M573487274             0.0            0.00        0               0   \n",
       "6   M408069119             0.0            0.00        0               0   \n",
       "7   M633326333             0.0            0.00        0               0   \n",
       "8  M1176932104             0.0            0.00        0               0   \n",
       "9   C195600860         41898.0        40348.79        0               0   \n",
       "\n",
       "   balanceDiffOrig  balanceDiffDest  \n",
       "0         -9839.64             0.00  \n",
       "1         -1864.28             0.00  \n",
       "2          -181.00             0.00  \n",
       "3          -181.00        -21182.00  \n",
       "4        -11668.14             0.00  \n",
       "5         -7817.71             0.00  \n",
       "6         -7107.77             0.00  \n",
       "7         -7861.64             0.00  \n",
       "8         -2671.00             0.00  \n",
       "9         -5337.77         -1549.21  "
      ]
     },
     "execution_count": 8,
     "metadata": {},
     "output_type": "execute_result"
    }
   ],
   "source": [
    "processed_df = df.copy()\n",
    "processed_df['balanceDiffOrig'] = processed_df['newbalanceOrig'] - processed_df['oldbalanceOrg']\n",
    "processed_df['balanceDiffDest'] = processed_df['newbalanceDest'] - processed_df['oldbalanceDest']\n",
    "processed_df.head(10)"
   ]
  },
  {
   "cell_type": "code",
   "execution_count": 9,
   "metadata": {},
   "outputs": [
    {
     "data": {
      "image/png": "[encoded data removed]",
      "text/plain": [
       "<Figure size 640x480 with 2 Axes>"
      ]
     },
     "metadata": {},
     "output_type": "display_data"
    }
   ],
   "source": [
    "correlation_matrix = processed_df[['balanceDiffOrig', 'balanceDiffDest', 'isFraud']].corr()\n",
    "sns.heatmap(correlation_matrix, annot=True, cmap='coolwarm')\n",
    "plt.show()"
   ]
  },
  {
   "cell_type": "code",
   "execution_count": 10,
   "metadata": {},
   "outputs": [
    {
     "data": {
      "text/html": [
       "<div>\n",
       "<style scoped>\n",
       "    .dataframe tbody tr th:only-of-type {\n",
       "        vertical-align: middle;\n",
       "    }\n",
       "\n",
       "    .dataframe tbody tr th {\n",
       "        vertical-align: top;\n",
       "    }\n",
       "\n",
       "    .dataframe thead th {\n",
       "        text-align: right;\n",
       "    }\n",
       "</style>\n",
       "<table border=\"1\" class=\"dataframe\">\n",
       "  <thead>\n",
       "    <tr style=\"text-align: right;\">\n",
       "      <th></th>\n",
       "      <th>step</th>\n",
       "      <th>type</th>\n",
       "      <th>amount</th>\n",
       "      <th>nameOrig</th>\n",
       "      <th>oldbalanceOrg</th>\n",
       "      <th>newbalanceOrig</th>\n",
       "      <th>nameDest</th>\n",
       "      <th>isFraud</th>\n",
       "      <th>isFlaggedFraud</th>\n",
       "      <th>balanceDiffOrig</th>\n",
       "    </tr>\n",
       "  </thead>\n",
       "  <tbody>\n",
       "    <tr>\n",
       "      <th>0</th>\n",
       "      <td>1</td>\n",
       "      <td>PAYMENT</td>\n",
       "      <td>9839.64</td>\n",
       "      <td>C1231006815</td>\n",
       "      <td>170136.0</td>\n",
       "      <td>160296.36</td>\n",
       "      <td>M1979787155</td>\n",
       "      <td>0</td>\n",
       "      <td>0</td>\n",
       "      <td>-9839.64</td>\n",
       "    </tr>\n",
       "    <tr>\n",
       "      <th>1</th>\n",
       "      <td>1</td>\n",
       "      <td>PAYMENT</td>\n",
       "      <td>1864.28</td>\n",
       "      <td>C1666544295</td>\n",
       "      <td>21249.0</td>\n",
       "      <td>19384.72</td>\n",
       "      <td>M2044282225</td>\n",
       "      <td>0</td>\n",
       "      <td>0</td>\n",
       "      <td>-1864.28</td>\n",
       "    </tr>\n",
       "    <tr>\n",
       "      <th>2</th>\n",
       "      <td>1</td>\n",
       "      <td>TRANSFER</td>\n",
       "      <td>181.00</td>\n",
       "      <td>C1305486145</td>\n",
       "      <td>181.0</td>\n",
       "      <td>0.00</td>\n",
       "      <td>C553264065</td>\n",
       "      <td>1</td>\n",
       "      <td>0</td>\n",
       "      <td>-181.00</td>\n",
       "    </tr>\n",
       "    <tr>\n",
       "      <th>3</th>\n",
       "      <td>1</td>\n",
       "      <td>CASH_OUT</td>\n",
       "      <td>181.00</td>\n",
       "      <td>C840083671</td>\n",
       "      <td>181.0</td>\n",
       "      <td>0.00</td>\n",
       "      <td>C38997010</td>\n",
       "      <td>1</td>\n",
       "      <td>0</td>\n",
       "      <td>-181.00</td>\n",
       "    </tr>\n",
       "    <tr>\n",
       "      <th>4</th>\n",
       "      <td>1</td>\n",
       "      <td>PAYMENT</td>\n",
       "      <td>11668.14</td>\n",
       "      <td>C2048537720</td>\n",
       "      <td>41554.0</td>\n",
       "      <td>29885.86</td>\n",
       "      <td>M1230701703</td>\n",
       "      <td>0</td>\n",
       "      <td>0</td>\n",
       "      <td>-11668.14</td>\n",
       "    </tr>\n",
       "  </tbody>\n",
       "</table>\n",
       "</div>"
      ],
      "text/plain": [
       "   step      type    amount     nameOrig  oldbalanceOrg  newbalanceOrig  \\\n",
       "0     1   PAYMENT   9839.64  C1231006815       170136.0       160296.36   \n",
       "1     1   PAYMENT   1864.28  C1666544295        21249.0        19384.72   \n",
       "2     1  TRANSFER    181.00  C1305486145          181.0            0.00   \n",
       "3     1  CASH_OUT    181.00   C840083671          181.0            0.00   \n",
       "4     1   PAYMENT  11668.14  C2048537720        41554.0        29885.86   \n",
       "\n",
       "      nameDest  isFraud  isFlaggedFraud  balanceDiffOrig  \n",
       "0  M1979787155        0               0         -9839.64  \n",
       "1  M2044282225        0               0         -1864.28  \n",
       "2   C553264065        1               0          -181.00  \n",
       "3    C38997010        1               0          -181.00  \n",
       "4  M1230701703        0               0        -11668.14  "
      ]
     },
     "execution_count": 10,
     "metadata": {},
     "output_type": "execute_result"
    }
   ],
   "source": [
    "processed_df.drop(columns=['balanceDiffDest', 'oldbalanceDest', 'newbalanceDest'], inplace=True)\n",
    "processed_df.head()"
   ]
  },
  {
   "cell_type": "code",
   "execution_count": 11,
   "metadata": {},
   "outputs": [],
   "source": [
    "import os\n",
    "from dotenv import load_dotenv\n",
    "\n",
    "load_dotenv()\n",
    "\n",
    "# Neo4j Connection\n",
    "NEO4J_URI = os.getenv(\"NEO4J_URI\")\n",
    "NEO4J_USER = os.getenv(\"NEO4J_USER\")\n",
    "NEO4J_PASSWORD = os.getenv(\"NEO4J_PASSWORD\")"
   ]
  },
  {
   "cell_type": "code",
   "execution_count": 25,
   "metadata": {},
   "outputs": [],
   "source": [
    "from py2neo import Graph, Node, Relationship, NodeMatcher\n",
    "\n",
    "def connectToNeo4j():\n",
    "    try:\n",
    "        graph = Graph(NEO4J_URI, auth=(NEO4J_USER, NEO4J_PASSWORD))\n",
    "        print(\"Connected to Neo4j database\")\n",
    "        return graph\n",
    "    except Exception as e:\n",
    "        print(f\"Failed to connect: {e}\")\n",
    "        return None"
   ]
  },
  {
   "cell_type": "code",
   "execution_count": 26,
   "metadata": {},
   "outputs": [
    {
     "name": "stdout",
     "output_type": "stream",
     "text": [
      "Connected to Neo4j database\n",
      "Graph('bolt://localhost:7687')\n"
     ]
    }
   ],
   "source": [
    "graph = connectToNeo4j()\n",
    "print(graph)"
   ]
  },
  {
   "cell_type": "code",
   "execution_count": 27,
   "metadata": {},
   "outputs": [
    {
     "name": "stdout",
     "output_type": "stream",
     "text": [
      "[{'name': 'neo4j', 'type': 'standard', 'aliases': [], 'access': 'read-write', 'address': 'localhost:7687', 'role': 'primary', 'writer': True, 'requestedStatus': 'online', 'currentStatus': 'online', 'statusMessage': '', 'default': True, 'home': True, 'constituents': []}, {'name': 'system', 'type': 'system', 'aliases': [], 'access': 'read-write', 'address': 'localhost:7687', 'role': 'primary', 'writer': True, 'requestedStatus': 'online', 'currentStatus': 'online', 'statusMessage': '', 'default': False, 'home': False, 'constituents': []}]\n"
     ]
    }
   ],
   "source": [
    "# graph = connectToNeo4j()\n",
    "result = graph.run(\"SHOW DATABASES\").data()\n",
    "print(result)"
   ]
  },
  {
   "cell_type": "code",
   "execution_count": 28,
   "metadata": {},
   "outputs": [
    {
     "name": "stdout",
     "output_type": "stream",
     "text": [
      "Using sample of 6362620 transactions (8213 fraudulent)\n"
     ]
    },
    {
     "data": {
      "text/html": [
       "<div>\n",
       "<style scoped>\n",
       "    .dataframe tbody tr th:only-of-type {\n",
       "        vertical-align: middle;\n",
       "    }\n",
       "\n",
       "    .dataframe tbody tr th {\n",
       "        vertical-align: top;\n",
       "    }\n",
       "\n",
       "    .dataframe thead th {\n",
       "        text-align: right;\n",
       "    }\n",
       "</style>\n",
       "<table border=\"1\" class=\"dataframe\">\n",
       "  <thead>\n",
       "    <tr style=\"text-align: right;\">\n",
       "      <th></th>\n",
       "      <th>step</th>\n",
       "      <th>type</th>\n",
       "      <th>amount</th>\n",
       "      <th>nameOrig</th>\n",
       "      <th>oldbalanceOrg</th>\n",
       "      <th>newbalanceOrig</th>\n",
       "      <th>nameDest</th>\n",
       "      <th>isFraud</th>\n",
       "      <th>isFlaggedFraud</th>\n",
       "      <th>balanceDiffOrig</th>\n",
       "    </tr>\n",
       "  </thead>\n",
       "  <tbody>\n",
       "    <tr>\n",
       "      <th>0</th>\n",
       "      <td>1</td>\n",
       "      <td>TRANSFER</td>\n",
       "      <td>181.0</td>\n",
       "      <td>C1305486145</td>\n",
       "      <td>181.0</td>\n",
       "      <td>0.0</td>\n",
       "      <td>C553264065</td>\n",
       "      <td>1</td>\n",
       "      <td>0</td>\n",
       "      <td>-181.0</td>\n",
       "    </tr>\n",
       "    <tr>\n",
       "      <th>1</th>\n",
       "      <td>1</td>\n",
       "      <td>CASH_OUT</td>\n",
       "      <td>181.0</td>\n",
       "      <td>C840083671</td>\n",
       "      <td>181.0</td>\n",
       "      <td>0.0</td>\n",
       "      <td>C38997010</td>\n",
       "      <td>1</td>\n",
       "      <td>0</td>\n",
       "      <td>-181.0</td>\n",
       "    </tr>\n",
       "    <tr>\n",
       "      <th>2</th>\n",
       "      <td>1</td>\n",
       "      <td>TRANSFER</td>\n",
       "      <td>2806.0</td>\n",
       "      <td>C1420196421</td>\n",
       "      <td>2806.0</td>\n",
       "      <td>0.0</td>\n",
       "      <td>C972765878</td>\n",
       "      <td>1</td>\n",
       "      <td>0</td>\n",
       "      <td>-2806.0</td>\n",
       "    </tr>\n",
       "    <tr>\n",
       "      <th>3</th>\n",
       "      <td>1</td>\n",
       "      <td>CASH_OUT</td>\n",
       "      <td>2806.0</td>\n",
       "      <td>C2101527076</td>\n",
       "      <td>2806.0</td>\n",
       "      <td>0.0</td>\n",
       "      <td>C1007251739</td>\n",
       "      <td>1</td>\n",
       "      <td>0</td>\n",
       "      <td>-2806.0</td>\n",
       "    </tr>\n",
       "    <tr>\n",
       "      <th>4</th>\n",
       "      <td>1</td>\n",
       "      <td>TRANSFER</td>\n",
       "      <td>20128.0</td>\n",
       "      <td>C137533655</td>\n",
       "      <td>20128.0</td>\n",
       "      <td>0.0</td>\n",
       "      <td>C1848415041</td>\n",
       "      <td>1</td>\n",
       "      <td>0</td>\n",
       "      <td>-20128.0</td>\n",
       "    </tr>\n",
       "  </tbody>\n",
       "</table>\n",
       "</div>"
      ],
      "text/plain": [
       "   step      type   amount     nameOrig  oldbalanceOrg  newbalanceOrig  \\\n",
       "0     1  TRANSFER    181.0  C1305486145          181.0             0.0   \n",
       "1     1  CASH_OUT    181.0   C840083671          181.0             0.0   \n",
       "2     1  TRANSFER   2806.0  C1420196421         2806.0             0.0   \n",
       "3     1  CASH_OUT   2806.0  C2101527076         2806.0             0.0   \n",
       "4     1  TRANSFER  20128.0   C137533655        20128.0             0.0   \n",
       "\n",
       "      nameDest  isFraud  isFlaggedFraud  balanceDiffOrig  \n",
       "0   C553264065        1               0           -181.0  \n",
       "1    C38997010        1               0           -181.0  \n",
       "2   C972765878        1               0          -2806.0  \n",
       "3  C1007251739        1               0          -2806.0  \n",
       "4  C1848415041        1               0         -20128.0  "
      ]
     },
     "execution_count": 28,
     "metadata": {},
     "output_type": "execute_result"
    }
   ],
   "source": [
    "sample_size = 100000\n",
    "\n",
    "fraud_df = processed_df[processed_df['isFraud'] == 1].copy()\n",
    "non_fraud_df = processed_df[processed_df['isFraud'] == 0].sample(n=min(sample_size - len(fraud_df), len(processed_df[processed_df['isFraud'] == 0])), random_state=42)\n",
    "processed_df = pd.concat([fraud_df, non_fraud_df]).reset_index(drop=True)\n",
    "print(f\"Using sample of {len(df)} transactions ({len(fraud_df)} fraudulent)\")\n",
    "processed_df.head()"
   ]
  },
  {
   "cell_type": "code",
   "execution_count": 29,
   "metadata": {},
   "outputs": [
    {
     "name": "stdout",
     "output_type": "stream",
     "text": [
      "(100000, 10)\n"
     ]
    }
   ],
   "source": [
    "processed_df.head()\n",
    "print(processed_df.shape)"
   ]
  },
  {
   "cell_type": "code",
   "execution_count": 30,
   "metadata": {},
   "outputs": [
    {
     "name": "stdout",
     "output_type": "stream",
     "text": [
      "Deleting all previous graphs..\n",
      "Deleted all\n"
     ]
    },
    {
     "data": {
      "text/html": [
       "(No data)"
      ],
      "text/plain": [
       "(No data)"
      ]
     },
     "execution_count": 30,
     "metadata": {},
     "output_type": "execute_result"
    }
   ],
   "source": [
    "import time\n",
    "from py2neo.bulk import create_nodes, create_relationships\n",
    "import tqdm\n",
    "\n",
    "# Clear database\n",
    "print(\"Deleting all previous graphs..\")\n",
    "graph.run(\"MATCH (n) DETACH DELETE n\")\n",
    "print(\"Deleted all\")\n",
    "\n",
    "# Create Schema constraints\n",
    "graph.run(\"CREATE CONSTRAINT client_id IF NOT EXISTS FOR (c:Client) REQUIRE c.id IS UNIQUE\")\n",
    "graph.run(\"CREATE CONSTRAINT merchant_id IF NOT EXISTS FOR (m:Merchant) REQUIRE m.id IS UNIQUE\")"
   ]
  },
  {
   "cell_type": "code",
   "execution_count": 38,
   "metadata": {},
   "outputs": [
    {
     "name": "stdout",
     "output_type": "stream",
     "text": [
      "99999\n",
      "93132\n"
     ]
    }
   ],
   "source": [
    "# Create client and merchant nodes\n",
    "originator_entities = set(processed_df['nameOrig'].unique())\n",
    "destination_entities = set(processed_df['nameDest'].unique())\n",
    "all_entities = originator_entities.union(destination_entities)\n",
    "print(len(originator_entities))\n",
    "print(len(destination_entities))"
   ]
  },
  {
   "cell_type": "code",
   "execution_count": 39,
   "metadata": {},
   "outputs": [],
   "source": [
    "client_entities = {entity for entity in all_entities if entity.startswith(\"C\")}\n",
    "merchant_entities = {entity for entity in all_entities if entity.startswith(\"M\")}"
   ]
  },
  {
   "cell_type": "code",
   "execution_count": 40,
   "metadata": {},
   "outputs": [],
   "source": [
    "client_data = [\n",
    "    {\n",
    "        \"id\": entity,\n",
    "        \"name\": entity,\n",
    "        \"is_originator\": entity in originator_entities,\n",
    "        \"is_destination\": entity in destination_entities\n",
    "    } for entity in client_entities\n",
    "]\n",
    "\n",
    "merchant_data = [\n",
    "    {\n",
    "        \"id\": entity,\n",
    "        \"name\": entity,\n",
    "        \"is_originator\": entity in originator_entities,\n",
    "        \"is_destination\": entity in destination_entities\n",
    "    } for entity in merchant_entities\n",
    "]"
   ]
  },
  {
   "cell_type": "code",
   "execution_count": 41,
   "metadata": {},
   "outputs": [],
   "source": [
    "# Bulk create client nodes\n",
    "batch_size = 500\n",
    "for i in range(0, len(client_data), batch_size):\n",
    "    batch = client_data[i:i+batch_size]\n",
    "    create_nodes(graph.auto(), batch, labels={\"Client\"})\n",
    "\n",
    "# Bulk create merchant nodes\n",
    "for i in range(0, len(merchant_data), batch_size):\n",
    "    batch = merchant_data[i:i+batch_size]\n",
    "    create_nodes(graph.auto(), batch, labels={\"Merchant\"})"
   ]
  },
  {
   "cell_type": "code",
   "execution_count": 42,
   "metadata": {},
   "outputs": [
    {
     "name": "stdout",
     "output_type": "stream",
     "text": [
      "Creating transaction edges...\n",
      "6363\n"
     ]
    }
   ],
   "source": [
    "# 2. Create transaction edges directly between entities\n",
    "print(\"Creating transaction edges...\")\n",
    "\n",
    "# Process in batches to avoid memory issues\n",
    "batch_size = 1000\n",
    "total_batches = (len(df) + batch_size - 1) // batch_size\n",
    "print(total_batches)"
   ]
  },
  {
   "cell_type": "code",
   "execution_count": 43,
   "metadata": {},
   "outputs": [
    {
     "name": "stderr",
     "output_type": "stream",
     "text": [
      "100%|██████████| 6363/6363 [10:08:02<00:00,  5.73s/it]      \n"
     ]
    }
   ],
   "source": [
    "for batch_idx in tqdm.tqdm(range(total_batches)):\n",
    "        start_idx = batch_idx * batch_size\n",
    "        end_idx = min((batch_idx + 1) * batch_size, len(df))\n",
    "        batch_df = df.iloc[start_idx:end_idx]\n",
    "        \n",
    "        # Use Cypher for batch transaction creation\n",
    "        tx_data = []\n",
    "        for idx, row in batch_df.iterrows():\n",
    "            source_id = row['nameOrig']\n",
    "            target_id = row['nameDest']\n",
    "            \n",
    "            tx_data.append({\n",
    "                \"from_id\": source_id,\n",
    "                \"to_id\": target_id,\n",
    "                \"from_type\": \"Client\" if source_id.startswith(\"C\") else \"Merchant\",\n",
    "                \"to_type\": \"Client\" if target_id.startswith(\"C\") else \"Merchant\",\n",
    "                \"tx_id\": int(idx),\n",
    "                \"step\": int(row['step']),\n",
    "                \"type\": row['type'],\n",
    "                \"amount\": float(row['amount']),\n",
    "                \"is_fraud\": bool(row['isFraud']),\n",
    "                \"is_flagged_fraud\": bool(row['isFlaggedFraud']),\n",
    "                \"orig_old_balance\": float(row['oldbalanceOrg']),\n",
    "                \"orig_new_balance\": float(row['newbalanceOrig']),\n",
    "                \"balanceDiffOrig\": float(row['balanceDiffOrig']) if 'balanceDiffOrig' in row else float(row['newbalanceOrig']) - float(row['oldbalanceOrg'])\n",
    "                # Removed the dest balance fields that were removed from the dataset\n",
    "            })\n",
    "        \n",
    "        # Process in smaller chunks for the transaction edges\n",
    "        tx_batch_size = 200\n",
    "        for i in range(0, len(tx_data), tx_batch_size):\n",
    "            tx_batch = tx_data[i:i+tx_batch_size]\n",
    "            \n",
    "            # Use a parameterized Cypher query for creating edges in batches\n",
    "            # Modified to handle both Client and Merchant node types and removed the deleted fields\n",
    "            query = \"\"\"\n",
    "            UNWIND $transactions AS tx\n",
    "            MATCH (from:`${fromType}` {id: tx.from_id})\n",
    "            MATCH (to:`${toType}` {id: tx.to_id})\n",
    "            CREATE (from)-[r:TRANSACTION {\n",
    "                tx_id: tx.tx_id,\n",
    "                step: tx.step,\n",
    "                type: tx.type,\n",
    "                amount: tx.amount,\n",
    "                is_fraud: tx.is_fraud,\n",
    "                is_flagged_fraud: tx.is_flagged_fraud,\n",
    "                orig_old_balance: tx.orig_old_balance,\n",
    "                orig_new_balance: tx.orig_new_balance,\n",
    "                orig_balance_diff: tx.balanceDiffOrig,\n",
    "                timestamp: datetime({epochmillis: tx.step * 3600000})\n",
    "            }]->(to)\n",
    "            \"\"\"\n",
    "            \n",
    "            for tx in tx_batch:\n",
    "                # Execute for each transaction with the correct node types\n",
    "                graph.run(\n",
    "                    query.replace(\"${fromType}\", tx[\"from_type\"]).replace(\"${toType}\", tx[\"to_type\"]),\n",
    "                    parameters={\"transactions\": [tx]}\n",
    "                )"
   ]
  },
  {
   "cell_type": "code",
   "execution_count": 44,
   "metadata": {},
   "outputs": [
    {
     "name": "stdout",
     "output_type": "stream",
     "text": [
      "Creating aggregate relationships...\n"
     ]
    },
    {
     "data": {
      "text/html": [
       "(No data)"
      ],
      "text/plain": [
       "(No data)"
      ]
     },
     "execution_count": 44,
     "metadata": {},
     "output_type": "execute_result"
    }
   ],
   "source": [
    "# Create aggregate relationships (optional but useful)\n",
    "print(\"Creating aggregate relationships...\")\n",
    "\n",
    "# This creates TRANSFERS_TO relationships that summarize all transactions between entity pairs\n",
    "graph.run(\"\"\"\n",
    "MATCH (e1)-[t:TRANSACTION]->(e2)\n",
    "WITH e1, e2, \n",
    "        collect(t) as transactions,\n",
    "        sum(t.amount) as total_amount,\n",
    "        count(t) as tx_count,\n",
    "        sum(CASE WHEN t.is_fraud THEN 1 ELSE 0 END) as fraud_count\n",
    "MERGE (e1)-[r:TRANSFERS_TO]->(e2)\n",
    "SET r.tx_count = tx_count,\n",
    "    r.total_amount = total_amount,\n",
    "    r.fraud_count = fraud_count,\n",
    "    r.fraud_ratio = toFloat(fraud_count) / tx_count,\n",
    "    r.avg_amount = total_amount / tx_count\n",
    "\"\"\")"
   ]
  },
  {
   "cell_type": "code",
   "execution_count": 45,
   "metadata": {},
   "outputs": [
    {
     "name": "stdout",
     "output_type": "stream",
     "text": [
      "Calculating entity metrics...\n"
     ]
    },
    {
     "data": {
      "text/html": [
       "(No data)"
      ],
      "text/plain": [
       "(No data)"
      ]
     },
     "execution_count": 45,
     "metadata": {},
     "output_type": "execute_result"
    }
   ],
   "source": [
    "# Update entity nodes with aggregate metrics - for both Client and Merchant nodes\n",
    "print(\"Calculating entity metrics...\")\n",
    "\n",
    "# Calculate transaction counts, fraud counts, etc. for each entity\n",
    "graph.run(\"\"\"\n",
    "MATCH (e)\n",
    "WHERE e:Client OR e:Merchant\n",
    "OPTIONAL MATCH (e)-[t:TRANSACTION]->()\n",
    "WITH e, count(t) as outgoing_count, \n",
    "        sum(CASE WHEN t.is_fraud THEN 1 ELSE 0 END) as outgoing_fraud_count,\n",
    "        sum(t.amount) as outgoing_total\n",
    "OPTIONAL MATCH ()-[t2:TRANSACTION]->(e)\n",
    "WITH e, outgoing_count, outgoing_fraud_count, outgoing_total,\n",
    "        count(t2) as incoming_count,\n",
    "        sum(CASE WHEN t2.is_fraud THEN 1 ELSE 0 END) as incoming_fraud_count,\n",
    "        sum(t2.amount) as incoming_total\n",
    "SET e.outgoing_tx_count = outgoing_count,\n",
    "    e.outgoing_fraud_count = outgoing_fraud_count,\n",
    "    e.outgoing_fraud_ratio = CASE WHEN outgoing_count > 0 THEN toFloat(outgoing_fraud_count) / outgoing_count ELSE 0 END,\n",
    "    e.outgoing_total = outgoing_total,\n",
    "    e.incoming_tx_count = incoming_count,\n",
    "    e.incoming_fraud_count = incoming_fraud_count,\n",
    "    e.incoming_fraud_ratio = CASE WHEN incoming_count > 0 THEN toFloat(incoming_fraud_count) / incoming_count ELSE 0 END,\n",
    "    e.incoming_total = incoming_total,\n",
    "    e.total_tx_count = outgoing_count + incoming_count,\n",
    "    e.total_fraud_count = outgoing_fraud_count + incoming_fraud_count,\n",
    "    e.total_fraud_ratio = CASE WHEN (outgoing_count + incoming_count) > 0 \n",
    "                            THEN toFloat(outgoing_fraud_count + incoming_fraud_count) / (outgoing_count + incoming_count) \n",
    "                            ELSE 0 END\n",
    "\"\"\")"
   ]
  },
  {
   "cell_type": "code",
   "execution_count": 48,
   "metadata": {},
   "outputs": [
    {
     "name": "stdout",
     "output_type": "stream",
     "text": [
      "{'client_count': 161843, 'merchant_count': 31284, 'total_entity_count': 193127, 'transaction_count': 100000}\n"
     ]
    }
   ],
   "source": [
    "stats = {\n",
    "        \"client_count\": len(client_entities),\n",
    "        \"merchant_count\": len(merchant_entities),\n",
    "        \"total_entity_count\": len(all_entities),\n",
    "        \"transaction_count\": len(processed_df)\n",
    "    }\n",
    "\n",
    "print(stats)"
   ]
  },
  {
   "cell_type": "code",
   "execution_count": 64,
   "metadata": {},
   "outputs": [],
   "source": [
    "from py2neo import Graph\n",
    "\n",
    "# Connect to your existing Neo4j database\n",
    "graph = Graph(NEO4J_URI, auth=(NEO4J_USER, NEO4J_PASSWORD))"
   ]
  },
  {
   "cell_type": "code",
   "execution_count": 65,
   "metadata": {},
   "outputs": [
    {
     "name": "stdout",
     "output_type": "stream",
     "text": [
      "Graph contains [{'count': 193127}] entities and [{'count': 200138}] relationships\n"
     ]
    }
   ],
   "source": [
    "# Check basic graph statistics\n",
    "entity_count = graph.run(\"MATCH (n) RETURN count(n) as count\").data()#[0]['count']\n",
    "relationship_count = graph.run(\"MATCH ()-[r]->() RETURN count(r) as count\").data()#[0]['count']\n",
    "\n",
    "print(f\"Graph contains {entity_count} entities and {relationship_count} relationships\")"
   ]
  },
  {
   "cell_type": "code",
   "execution_count": 66,
   "metadata": {},
   "outputs": [
    {
     "name": "stdout",
     "output_type": "stream",
     "text": [
      "Running graph analytics algorithms...\n"
     ]
    },
    {
     "data": {
      "text/html": [
       "<table><tr><th>nodeProjection</th><th>relationshipProjection</th><th>graphName</th><th>nodeCount</th><th>relationshipCount</th><th>projectMillis</th></tr><tr><td style=\"text-align:left\">{Merchant: {label: &#039;Merchant&#039;, properties: {}}, Client: {label: &#039;Client&#039;, properties: {}}}</td><td style=\"text-align:left\">{TRANSFERS_TO: {aggregation: &#039;DEFAULT&#039;, orientation: &#039;NATURAL&#039;, indexInverse: false, properties: {tx_count: {aggregation: &#039;DEFAULT&#039;, property: &#039;tx_count&#039;, defaultValue: null}, fraud_ratio: {aggregation: &#039;DEFAULT&#039;, property: &#039;fraud_ratio&#039;, defaultValue: null}}, type: &#039;TRANSFERS_TO&#039;}, TRANSACTION: {aggregation: &#039;DEFAULT&#039;, orientation: &#039;NATURAL&#039;, indexInverse: false, properties: {amount: {aggregation: &#039;DEFAULT&#039;, property: &#039;amount&#039;, defaultValue: null}, is_fraud_num: {aggregation: &#039;DEFAULT&#039;, property: &#039;is_fraud_num&#039;, defaultValue: null}}, type: &#039;TRANSACTION&#039;}}</td><td style=\"text-align:left\">pagerank_graph</td><td style=\"text-align:right\">193127</td><td style=\"text-align:right\">200138</td><td style=\"text-align:right\">1723</td></tr></table>"
      ],
      "text/plain": [
       " nodeProjection                                                                             | relationshipProjection                                                                                                                                                                                                                                                                                                                                                                                                                                                                                                                                                             | graphName      | nodeCount | relationshipCount | projectMillis \n",
       "--------------------------------------------------------------------------------------------|------------------------------------------------------------------------------------------------------------------------------------------------------------------------------------------------------------------------------------------------------------------------------------------------------------------------------------------------------------------------------------------------------------------------------------------------------------------------------------------------------------------------------------------------------------------------------------|----------------|-----------|-------------------|---------------\n",
       " {Merchant: {label: 'Merchant', properties: {}}, Client: {label: 'Client', properties: {}}} | {TRANSFERS_TO: {aggregation: 'DEFAULT', orientation: 'NATURAL', indexInverse: false, properties: {tx_count: {aggregation: 'DEFAULT', property: 'tx_count', defaultValue: null}, fraud_ratio: {aggregation: 'DEFAULT', property: 'fraud_ratio', defaultValue: null}}, type: 'TRANSFERS_TO'}, TRANSACTION: {aggregation: 'DEFAULT', orientation: 'NATURAL', indexInverse: false, properties: {amount: {aggregation: 'DEFAULT', property: 'amount', defaultValue: null}, is_fraud_num: {aggregation: 'DEFAULT', property: 'is_fraud_num', defaultValue: null}}, type: 'TRANSACTION'}} | pagerank_graph |    193127 |            200138 |          1723 "
      ]
     },
     "execution_count": 66,
     "metadata": {},
     "output_type": "execute_result"
    }
   ],
   "source": [
    "# Graph Analytics\n",
    "print(\"Running graph analytics algorithms...\")\n",
    "\n",
    "graph.run(\"\"\"\n",
    "    CALL gds.graph.project(\n",
    "    'pagerank_graph',\n",
    "    ['Client', 'Merchant'],\n",
    "    {\n",
    "      TRANSACTION: {\n",
    "        orientation: 'NATURAL',\n",
    "        properties: ['amount', 'is_fraud_num']\n",
    "      },\n",
    "      TRANSFERS_TO: {\n",
    "        orientation: 'NATURAL',\n",
    "        properties: ['tx_count', 'fraud_ratio']\n",
    "      }\n",
    "    }\n",
    "  )\n",
    "    \"\"\")"
   ]
  },
  {
   "cell_type": "code",
   "execution_count": 68,
   "metadata": {},
   "outputs": [
    {
     "data": {
      "text/html": [
       "<table><tr><th>writeMillis</th><th>nodePropertiesWritten</th><th>ranIterations</th><th>didConverge</th><th>centralityDistribution</th><th>postProcessingMillis</th><th>preProcessingMillis</th><th>computeMillis</th><th>configuration</th></tr><tr><td style=\"text-align:right\">2315</td><td style=\"text-align:right\">193127</td><td style=\"text-align:right\">3</td><td style=\"text-align:left\">true</td><td style=\"text-align:left\">{min: 0.14999961853027344, max: 0.7875022888183593, p90: 0.2774991989135742, p999: 0.5325002670288086, p99: 0.4049997329711914, p50: 0.14999961853027344, p75: 0.2774991989135742, p95: 0.2774991989135742, mean: 0.21604130645328307}</td><td style=\"text-align:right\">70</td><td style=\"text-align:right\">11</td><td style=\"text-align:right\">542</td><td style=\"text-align:left\">{writeProperty: &#039;pagerank_score&#039;, jobId: &#039;1fd6680b-0305-406f-ab78-35520f33c03d&#039;, scaler: &#039;NONE&#039;, sourceNodes: [], sudo: false, maxIterations: 20, dampingFactor: 0.85, writeToResultStore: false, writeConcurrency: 4, relationshipWeightProperty: &#039;amount&#039;, logProgress: true, nodeLabels: [&#039;*&#039;], concurrency: 4, relationshipTypes: [&#039;TRANSACTION&#039;], tolerance: 1e-07}</td></tr></table>"
      ],
      "text/plain": [
       " writeMillis | nodePropertiesWritten | ranIterations | didConverge | centralityDistribution                                                                                                                                                                                                                 | postProcessingMillis | preProcessingMillis | computeMillis | configuration                                                                                                                                                                                                                                                                                                                                                            \n",
       "-------------|-----------------------|---------------|-------------|----------------------------------------------------------------------------------------------------------------------------------------------------------------------------------------------------------------------------------------|----------------------|---------------------|---------------|--------------------------------------------------------------------------------------------------------------------------------------------------------------------------------------------------------------------------------------------------------------------------------------------------------------------------------------------------------------------------\n",
       "        2315 |                193127 |             3 | true        | {min: 0.14999961853027344, max: 0.7875022888183593, p90: 0.2774991989135742, p999: 0.5325002670288086, p99: 0.4049997329711914, p50: 0.14999961853027344, p75: 0.2774991989135742, p95: 0.2774991989135742, mean: 0.21604130645328307} |                   70 |                  11 |           542 | {writeProperty: 'pagerank_score', jobId: '1fd6680b-0305-406f-ab78-35520f33c03d', scaler: 'NONE', sourceNodes: [], sudo: false, maxIterations: 20, dampingFactor: 0.85, writeToResultStore: false, writeConcurrency: 4, relationshipWeightProperty: 'amount', logProgress: true, nodeLabels: ['*'], concurrency: 4, relationshipTypes: ['TRANSACTION'], tolerance: 1e-07} "
      ]
     },
     "execution_count": 68,
     "metadata": {},
     "output_type": "execute_result"
    }
   ],
   "source": [
    "# Run PageRank with transaction amount as weight\n",
    "graph.run(\"\"\"\n",
    "CALL gds.pageRank.write(\n",
    "  'pagerank_graph',\n",
    "  {\n",
    "    relationshipTypes: ['TRANSACTION'],\n",
    "    relationshipWeightProperty: 'amount',\n",
    "    writeProperty: 'pagerank_score'\n",
    "  }\n",
    ")\n",
    "\"\"\")"
   ]
  },
  {
   "cell_type": "code",
   "execution_count": 69,
   "metadata": {},
   "outputs": [
    {
     "name": "stdout",
     "output_type": "stream",
     "text": [
      "Performing community detection with Louvain algorithm...\n"
     ]
    },
    {
     "data": {
      "text/html": [
       "<table><tr><th>writeMillis</th><th>nodePropertiesWritten</th><th>modularity</th><th>modularities</th><th>ranLevels</th><th>communityCount</th><th>communityDistribution</th><th>postProcessingMillis</th><th>preProcessingMillis</th><th>computeMillis</th><th>configuration</th></tr><tr><td style=\"text-align:right\">1274</td><td style=\"text-align:right\">193127</td><td style=\"text-align:right\">0.9999884114975628</td><td style=\"text-align:left\">[0.9995287524459406, 0.9999884114975628]</td><td style=\"text-align:right\">2</td><td style=\"text-align:right\">93058</td><td style=\"text-align:left\">{min: 2, p5: 2, max: 7, p999: 5, p99: 3, p1: 2, p10: 2, p90: 2, p50: 2, p25: 2, p75: 2, p95: 3, mean: 2.07534011046874}</td><td style=\"text-align:right\">98</td><td style=\"text-align:right\">0</td><td style=\"text-align:right\">2137</td><td style=\"text-align:left\">{writeProperty: &#039;louvain_community&#039;, jobId: &#039;62e17282-7dba-49e9-9048-bc98673fd746&#039;, sudo: false, maxIterations: 10, maxLevels: 10, seedProperty: null, writeToResultStore: false, writeConcurrency: 4, relationshipWeightProperty: &#039;tx_count&#039;, logProgress: true, nodeLabels: [&#039;*&#039;], concurrency: 4, includeIntermediateCommunities: false, relationshipTypes: [&#039;TRANSFERS_TO&#039;], tolerance: 0.0001, consecutiveIds: false}</td></tr></table>"
      ],
      "text/plain": [
       " writeMillis | nodePropertiesWritten |         modularity | modularities                             | ranLevels | communityCount | communityDistribution                                                                                                   | postProcessingMillis | preProcessingMillis | computeMillis | configuration                                                                                                                                                                                                                                                                                                                                                                                                              \n",
       "-------------|-----------------------|--------------------|------------------------------------------|-----------|----------------|-------------------------------------------------------------------------------------------------------------------------|----------------------|---------------------|---------------|----------------------------------------------------------------------------------------------------------------------------------------------------------------------------------------------------------------------------------------------------------------------------------------------------------------------------------------------------------------------------------------------------------------------------\n",
       "        1274 |                193127 | 0.9999884114975628 | [0.9995287524459406, 0.9999884114975628] |         2 |          93058 | {min: 2, p5: 2, max: 7, p999: 5, p99: 3, p1: 2, p10: 2, p90: 2, p50: 2, p25: 2, p75: 2, p95: 3, mean: 2.07534011046874} |                   98 |                   0 |          2137 | {writeProperty: 'louvain_community', jobId: '62e17282-7dba-49e9-9048-bc98673fd746', sudo: false, maxIterations: 10, maxLevels: 10, seedProperty: null, writeToResultStore: false, writeConcurrency: 4, relationshipWeightProperty: 'tx_count', logProgress: true, nodeLabels: ['*'], concurrency: 4, includeIntermediateCommunities: false, relationshipTypes: ['TRANSFERS_TO'], tolerance: 0.0001, consecutiveIds: false} "
      ]
     },
     "execution_count": 69,
     "metadata": {},
     "output_type": "execute_result"
    }
   ],
   "source": [
    "print(\"Performing community detection with Louvain algorithm...\")\n",
    "graph.run(\"\"\"\n",
    "CALL gds.louvain.write(\n",
    "  'pagerank_graph',\n",
    "  {\n",
    "    relationshipTypes: ['TRANSFERS_TO'],\n",
    "    relationshipWeightProperty: 'tx_count',\n",
    "    writeProperty: 'louvain_community'\n",
    "  }\n",
    ")\n",
    "\"\"\")"
   ]
  },
  {
   "cell_type": "code",
   "execution_count": 70,
   "metadata": {},
   "outputs": [
    {
     "name": "stdout",
     "output_type": "stream",
     "text": [
      "Calculating betweenness centrality...\n"
     ]
    },
    {
     "data": {
      "text/html": [
       "<table><tr><th>nodePropertiesWritten</th><th>writeMillis</th><th>centralityDistribution</th><th>postProcessingMillis</th><th>preProcessingMillis</th><th>computeMillis</th><th>configuration</th></tr><tr><td style=\"text-align:right\">193127</td><td style=\"text-align:right\">1100</td><td style=\"text-align:left\">{min: 0.0, max: 3.000015258789062, p90: 0.0, p999: 0.0, p99: 0.0, p50: 0.0, p75: 0.0, p95: 0.0, mean: 0.0001708721748775579}</td><td style=\"text-align:right\">23</td><td style=\"text-align:right\">4</td><td style=\"text-align:right\">187084</td><td style=\"text-align:left\">{writeProperty: &#039;betweenness_centrality&#039;, jobId: &#039;ddb4e1bb-d31b-4a08-b66d-bc1c937719b5&#039;, logProgress: true, nodeLabels: [&#039;*&#039;], relationshipTypes: [&#039;TRANSACTION&#039;, &#039;TRANSFERS_TO&#039;], concurrency: 4, sudo: false, writeToResultStore: false, writeConcurrency: 4}</td></tr></table>"
      ],
      "text/plain": [
       " nodePropertiesWritten | writeMillis | centralityDistribution                                                                                                       | postProcessingMillis | preProcessingMillis | computeMillis | configuration                                                                                                                                                                                                                                                   \n",
       "-----------------------|-------------|------------------------------------------------------------------------------------------------------------------------------|----------------------|---------------------|---------------|-----------------------------------------------------------------------------------------------------------------------------------------------------------------------------------------------------------------------------------------------------------------\n",
       "                193127 |        1100 | {min: 0.0, max: 3.000015258789062, p90: 0.0, p999: 0.0, p99: 0.0, p50: 0.0, p75: 0.0, p95: 0.0, mean: 0.0001708721748775579} |                   23 |                   4 |        187084 | {writeProperty: 'betweenness_centrality', jobId: 'ddb4e1bb-d31b-4a08-b66d-bc1c937719b5', logProgress: true, nodeLabels: ['*'], relationshipTypes: ['TRANSACTION', 'TRANSFERS_TO'], concurrency: 4, sudo: false, writeToResultStore: false, writeConcurrency: 4} "
      ]
     },
     "execution_count": 70,
     "metadata": {},
     "output_type": "execute_result"
    }
   ],
   "source": [
    "print(\"Calculating betweenness centrality...\")\n",
    "graph.run(\"\"\"\n",
    "CALL gds.betweenness.write(\n",
    "  'pagerank_graph',\n",
    "  {\n",
    "    relationshipTypes: ['TRANSACTION', 'TRANSFERS_TO'],\n",
    "    writeProperty: 'betweenness_centrality'\n",
    "  }\n",
    ")\n",
    "\"\"\")"
   ]
  },
  {
   "cell_type": "code",
   "execution_count": 71,
   "metadata": {},
   "outputs": [
    {
     "name": "stdout",
     "output_type": "stream",
     "text": [
      "Running label propagation for community detection...\n"
     ]
    },
    {
     "data": {
      "text/html": [
       "<table><tr><th>writeMillis</th><th>nodePropertiesWritten</th><th>ranIterations</th><th>didConverge</th><th>communityCount</th><th>communityDistribution</th><th>postProcessingMillis</th><th>preProcessingMillis</th><th>computeMillis</th><th>configuration</th></tr><tr><td style=\"text-align:right\">732</td><td style=\"text-align:right\">193127</td><td style=\"text-align:right\">3</td><td style=\"text-align:left\">true</td><td style=\"text-align:right\">93104</td><td style=\"text-align:left\">{min: 1, p5: 2, max: 6, p999: 4, p99: 3, p1: 2, p10: 2, p90: 2, p50: 2, p25: 2, p75: 2, p95: 3, mean: 2.0743147448015122}</td><td style=\"text-align:right\">70</td><td style=\"text-align:right\">0</td><td style=\"text-align:right\">277</td><td style=\"text-align:left\">{writeProperty: &#039;lpa_community&#039;, jobId: &#039;48290fb7-b894-4128-8504-26ef9021ef8b&#039;, sudo: false, maxIterations: 10, seedProperty: null, writeToResultStore: false, writeConcurrency: 4, nodeWeightProperty: null, logProgress: true, nodeLabels: [&#039;*&#039;], concurrency: 4, relationshipTypes: [&#039;TRANSFERS_TO&#039;], consecutiveIds: false}</td></tr></table>"
      ],
      "text/plain": [
       " writeMillis | nodePropertiesWritten | ranIterations | didConverge | communityCount | communityDistribution                                                                                                     | postProcessingMillis | preProcessingMillis | computeMillis | configuration                                                                                                                                                                                                                                                                                                                   \n",
       "-------------|-----------------------|---------------|-------------|----------------|---------------------------------------------------------------------------------------------------------------------------|----------------------|---------------------|---------------|---------------------------------------------------------------------------------------------------------------------------------------------------------------------------------------------------------------------------------------------------------------------------------------------------------------------------------\n",
       "         732 |                193127 |             3 | true        |          93104 | {min: 1, p5: 2, max: 6, p999: 4, p99: 3, p1: 2, p10: 2, p90: 2, p50: 2, p25: 2, p75: 2, p95: 3, mean: 2.0743147448015122} |                   70 |                   0 |           277 | {writeProperty: 'lpa_community', jobId: '48290fb7-b894-4128-8504-26ef9021ef8b', sudo: false, maxIterations: 10, seedProperty: null, writeToResultStore: false, writeConcurrency: 4, nodeWeightProperty: null, logProgress: true, nodeLabels: ['*'], concurrency: 4, relationshipTypes: ['TRANSFERS_TO'], consecutiveIds: false} "
      ]
     },
     "execution_count": 71,
     "metadata": {},
     "output_type": "execute_result"
    }
   ],
   "source": [
    "print(\"Running label propagation for community detection...\")\n",
    "graph.run(\"\"\"\n",
    "CALL gds.labelPropagation.write(\n",
    "  'pagerank_graph',\n",
    "  {\n",
    "    relationshipTypes: ['TRANSFERS_TO'],\n",
    "    writeProperty: 'lpa_community'\n",
    "  }\n",
    ")\n",
    "\"\"\")"
   ]
  },
  {
   "cell_type": "code",
   "execution_count": 72,
   "metadata": {},
   "outputs": [
    {
     "name": "stdout",
     "output_type": "stream",
     "text": [
      "Calculating node similarity...\n"
     ]
    },
    {
     "data": {
      "text/html": [
       "<table><tr><th>preProcessingMillis</th><th>computeMillis</th><th>writeMillis</th><th>postProcessingMillis</th><th>nodesCompared</th><th>relationshipsWritten</th><th>similarityDistribution</th><th>configuration</th></tr><tr><td style=\"text-align:right\">0</td><td style=\"text-align:right\">248777</td><td style=\"text-align:right\">1306</td><td style=\"text-align:right\">0</td><td style=\"text-align:right\">100023</td><td style=\"text-align:right\">15604</td><td style=\"text-align:left\">{min: 0.5, p5: 1.0000038146972656, max: 1.000007629394531, p99: 1.0000038146972656, p1: 1.0000038146972656, p10: 1.0000038146972656, p90: 1.0000038146972656, p50: 1.0000038146972656, p25: 1.0000038146972656, p75: 1.0000038146972656, p95: 1.0000038146972656, mean: 0.9960304442138985, p100: 1.0000038146972656, stdDev: 0.04439496284367178}</td><td style=\"text-align:left\">{writeProperty: &#039;similarity&#039;, writeRelationshipType: &#039;SIMILAR&#039;, jobId: &#039;b48cc49c-1411-4c6b-a12c-573d4522d7b5&#039;, topN: 0, upperDegreeCutoff: 2147483647, topK: 10, similarityCutoff: 1e-42, sudo: false, degreeCutoff: 1, writeToResultStore: false, writeConcurrency: 4, useComponents: false, bottomN: 0, bottomK: 10, logProgress: true, nodeLabels: [&#039;*&#039;], concurrency: 4, relationshipTypes: [&#039;TRANSACTION&#039;], similarityMetric: &#039;JACCARD&#039;}</td></tr></table>"
      ],
      "text/plain": [
       " preProcessingMillis | computeMillis | writeMillis | postProcessingMillis | nodesCompared | relationshipsWritten | similarityDistribution                                                                                                                                                                                                                                                                                                                             | configuration                                                                                                                                                                                                                                                                                                                                                                                                                                 \n",
       "---------------------|---------------|-------------|----------------------|---------------|----------------------|----------------------------------------------------------------------------------------------------------------------------------------------------------------------------------------------------------------------------------------------------------------------------------------------------------------------------------------------------|-----------------------------------------------------------------------------------------------------------------------------------------------------------------------------------------------------------------------------------------------------------------------------------------------------------------------------------------------------------------------------------------------------------------------------------------------\n",
       "                   0 |        248777 |        1306 |                    0 |        100023 |                15604 | {min: 0.5, p5: 1.0000038146972656, max: 1.000007629394531, p99: 1.0000038146972656, p1: 1.0000038146972656, p10: 1.0000038146972656, p90: 1.0000038146972656, p50: 1.0000038146972656, p25: 1.0000038146972656, p75: 1.0000038146972656, p95: 1.0000038146972656, mean: 0.9960304442138985, p100: 1.0000038146972656, stdDev: 0.04439496284367178} | {writeProperty: 'similarity', writeRelationshipType: 'SIMILAR', jobId: 'b48cc49c-1411-4c6b-a12c-573d4522d7b5', topN: 0, upperDegreeCutoff: 2147483647, topK: 10, similarityCutoff: 1e-42, sudo: false, degreeCutoff: 1, writeToResultStore: false, writeConcurrency: 4, useComponents: false, bottomN: 0, bottomK: 10, logProgress: true, nodeLabels: ['*'], concurrency: 4, relationshipTypes: ['TRANSACTION'], similarityMetric: 'JACCARD'} "
      ]
     },
     "execution_count": 72,
     "metadata": {},
     "output_type": "execute_result"
    }
   ],
   "source": [
    "print(\"Calculating node similarity...\")\n",
    "graph.run(\"\"\"\n",
    "CALL gds.nodeSimilarity.write(\n",
    "  'pagerank_graph',\n",
    "  {\n",
    "    relationshipTypes: ['TRANSACTION'],\n",
    "    writeRelationshipType: 'SIMILAR',\n",
    "    writeProperty: 'similarity'\n",
    "  }\n",
    ")\n",
    "\"\"\")"
   ]
  },
  {
   "cell_type": "code",
   "execution_count": 74,
   "metadata": {},
   "outputs": [
    {
     "name": "stdout",
     "output_type": "stream",
     "text": [
      "Creating undirected graph projection for triangle counting...\n"
     ]
    },
    {
     "data": {
      "text/html": [
       "<table><tr><th>nodeProjection</th><th>relationshipProjection</th><th>graphName</th><th>nodeCount</th><th>relationshipCount</th><th>projectMillis</th></tr><tr><td style=\"text-align:left\">{Merchant: {label: &#039;Merchant&#039;, properties: {}}, Client: {label: &#039;Client&#039;, properties: {}}}</td><td style=\"text-align:left\">{TRANSFERS_TO: {aggregation: &#039;DEFAULT&#039;, orientation: &#039;UNDIRECTED&#039;, indexInverse: false, properties: {tx_count: {aggregation: &#039;DEFAULT&#039;, property: &#039;tx_count&#039;, defaultValue: null}, fraud_ratio: {aggregation: &#039;DEFAULT&#039;, property: &#039;fraud_ratio&#039;, defaultValue: null}}, type: &#039;TRANSFERS_TO&#039;}, TRANSACTION: {aggregation: &#039;DEFAULT&#039;, orientation: &#039;UNDIRECTED&#039;, indexInverse: false, properties: {amount: {aggregation: &#039;DEFAULT&#039;, property: &#039;amount&#039;, defaultValue: null}, is_fraud_num: {aggregation: &#039;DEFAULT&#039;, property: &#039;is_fraud_num&#039;, defaultValue: null}}, type: &#039;TRANSACTION&#039;}}</td><td style=\"text-align:left\">triangle_graph</td><td style=\"text-align:right\">193127</td><td style=\"text-align:right\">400276</td><td style=\"text-align:right\">1383</td></tr></table>"
      ],
      "text/plain": [
       " nodeProjection                                                                             | relationshipProjection                                                                                                                                                                                                                                                                                                                                                                                                                                                                                                                                                                   | graphName      | nodeCount | relationshipCount | projectMillis \n",
       "--------------------------------------------------------------------------------------------|------------------------------------------------------------------------------------------------------------------------------------------------------------------------------------------------------------------------------------------------------------------------------------------------------------------------------------------------------------------------------------------------------------------------------------------------------------------------------------------------------------------------------------------------------------------------------------------|----------------|-----------|-------------------|---------------\n",
       " {Merchant: {label: 'Merchant', properties: {}}, Client: {label: 'Client', properties: {}}} | {TRANSFERS_TO: {aggregation: 'DEFAULT', orientation: 'UNDIRECTED', indexInverse: false, properties: {tx_count: {aggregation: 'DEFAULT', property: 'tx_count', defaultValue: null}, fraud_ratio: {aggregation: 'DEFAULT', property: 'fraud_ratio', defaultValue: null}}, type: 'TRANSFERS_TO'}, TRANSACTION: {aggregation: 'DEFAULT', orientation: 'UNDIRECTED', indexInverse: false, properties: {amount: {aggregation: 'DEFAULT', property: 'amount', defaultValue: null}, is_fraud_num: {aggregation: 'DEFAULT', property: 'is_fraud_num', defaultValue: null}}, type: 'TRANSACTION'}} | triangle_graph |    193127 |            400276 |          1383 "
      ]
     },
     "execution_count": 74,
     "metadata": {},
     "output_type": "execute_result"
    }
   ],
   "source": [
    "# For Triangle Count - create a specific projection with undirected relationships\n",
    "print(\"Creating undirected graph projection for triangle counting...\")\n",
    "graph.run(\"\"\"\n",
    "CALL gds.graph.project(\n",
    "  'triangle_graph',\n",
    "  ['Client', 'Merchant'],\n",
    "  {\n",
    "    TRANSACTION: {\n",
    "      orientation: 'UNDIRECTED',\n",
    "      properties: ['amount', 'is_fraud_num']\n",
    "    },\n",
    "    TRANSFERS_TO: {\n",
    "      orientation: 'UNDIRECTED',\n",
    "      properties: ['tx_count', 'fraud_ratio']\n",
    "    }\n",
    "  }\n",
    ")\n",
    "\"\"\")"
   ]
  },
  {
   "cell_type": "code",
   "execution_count": 75,
   "metadata": {},
   "outputs": [
    {
     "name": "stdout",
     "output_type": "stream",
     "text": [
      "Counting triangles...\n"
     ]
    },
    {
     "data": {
      "text/html": [
       "<table><tr><th>writeMillis</th><th>nodePropertiesWritten</th><th>globalTriangleCount</th><th>nodeCount</th><th>postProcessingMillis</th><th>preProcessingMillis</th><th>computeMillis</th><th>configuration</th></tr><tr><td style=\"text-align:right\">2781</td><td style=\"text-align:right\">193127</td><td style=\"text-align:right\">0</td><td style=\"text-align:right\">193127</td><td style=\"text-align:right\">0</td><td style=\"text-align:right\">11</td><td style=\"text-align:right\">368</td><td style=\"text-align:left\">{writeProperty: &#039;triangle_count&#039;, jobId: &#039;44b47a56-266d-4af9-bbc0-67a95d49c53d&#039;, logProgress: true, nodeLabels: [&#039;*&#039;], relationshipTypes: [&#039;*&#039;], concurrency: 4, sudo: false, writeToResultStore: false, writeConcurrency: 4, maxDegree: 9223372036854775807}</td></tr></table>"
      ],
      "text/plain": [
       " writeMillis | nodePropertiesWritten | globalTriangleCount | nodeCount | postProcessingMillis | preProcessingMillis | computeMillis | configuration                                                                                                                                                                                                                                                 \n",
       "-------------|-----------------------|---------------------|-----------|----------------------|---------------------|---------------|---------------------------------------------------------------------------------------------------------------------------------------------------------------------------------------------------------------------------------------------------------------\n",
       "        2781 |                193127 |                   0 |    193127 |                    0 |                  11 |           368 | {writeProperty: 'triangle_count', jobId: '44b47a56-266d-4af9-bbc0-67a95d49c53d', logProgress: true, nodeLabels: ['*'], relationshipTypes: ['*'], concurrency: 4, sudo: false, writeToResultStore: false, writeConcurrency: 4, maxDegree: 9223372036854775807} "
      ]
     },
     "execution_count": 75,
     "metadata": {},
     "output_type": "execute_result"
    }
   ],
   "source": [
    "# Counting triangles on the undirected graph\n",
    "print(\"Counting triangles...\")\n",
    "graph.run(\"\"\"\n",
    "CALL gds.triangleCount.write(\n",
    "  'triangle_graph',\n",
    "  {\n",
    "    writeProperty: 'triangle_count'\n",
    "  }\n",
    ")\n",
    "\"\"\")"
   ]
  },
  {
   "cell_type": "code",
   "execution_count": 77,
   "metadata": {},
   "outputs": [
    {
     "data": {
      "text/html": [
       "<table><tr><th>graphName</th><th>database</th><th>databaseLocation</th><th>memoryUsage</th><th>sizeInBytes</th><th>nodeCount</th><th>relationshipCount</th><th>configuration</th><th>density</th><th>creationTime</th><th>modificationTime</th><th>schema</th><th>schemaWithOrientation</th></tr><tr><td style=\"text-align:left\">triangle_graph</td><td style=\"text-align:left\">neo4j</td><td style=\"text-align:left\">local</td><td style=\"text-align:left\"></td><td style=\"text-align:right\">-1</td><td style=\"text-align:right\">193127</td><td style=\"text-align:right\">400276</td><td style=\"text-align:left\">{relationshipProjection: {TRANSFERS_TO: {aggregation: &#039;DEFAULT&#039;, orientation: &#039;UNDIRECTED&#039;, indexInverse: false, properties: {tx_count: {aggregation: &#039;DEFAULT&#039;, property: &#039;tx_count&#039;, defaultValue: null}, fraud_ratio: {aggregation: &#039;DEFAULT&#039;, property: &#039;fraud_ratio&#039;, defaultValue: null}}, type: &#039;TRANSFERS_TO&#039;}, TRANSACTION: {aggregation: &#039;DEFAULT&#039;, orientation: &#039;UNDIRECTED&#039;, indexInverse: false, properties: {amount: {aggregation: &#039;DEFAULT&#039;, property: &#039;amount&#039;, defaultValue: null}, is_fraud_num: {aggregation: &#039;DEFAULT&#039;, property: &#039;is_fraud_num&#039;, defaultValue: null}}, type: &#039;TRANSACTION&#039;}}, readConcurrency: 4, relationshipProperties: {}, nodeProperties: {}, jobId: &#039;406e6228-5d85-459c-bc6f-4a5dae5058ef&#039;, nodeProjection: {Merchant: {label: &#039;Merchant&#039;, properties: {}}, Client: {label: &#039;Client&#039;, properties: {}}}, logProgress: true, validateRelationships: false, sudo: false}</td><td style=\"text-align:right\">1.0731880085257908e-05</td><td style=\"text-align:left\">datetime(&#039;2025-03-02T19:20:07.450111400+05:30&#039;)</td><td style=\"text-align:left\">datetime(&#039;2025-03-02T19:20:07.450111400+05:30&#039;)</td><td style=\"text-align:left\">{graphProperties: {}, nodes: {Merchant: {}, Client: {}}, relationships: {TRANSFERS_TO: {tx_count: &#039;Float (DefaultValue(NaN), PERSISTENT, Aggregation.NONE)&#039;, fraud_ratio: &#039;Float (DefaultValue(NaN), PERSISTENT, Aggregation.NONE)&#039;}, TRANSACTION: {amount: &#039;Float (DefaultValue(NaN), PERSISTENT, Aggregation.NONE)&#039;, is_fraud_num: &#039;Float (DefaultValue(NaN), PERSISTENT, Aggregation.NONE)&#039;}}}</td><td style=\"text-align:left\">{graphProperties: {}, nodes: {Merchant: {}, Client: {}}, relationships: {TRANSFERS_TO: {direction: &#039;UNDIRECTED&#039;, properties: {tx_count: &#039;Float (DefaultValue(NaN), PERSISTENT, Aggregation.NONE)&#039;, fraud_ratio: &#039;Float (DefaultValue(NaN), PERSISTENT, Aggregation.NONE)&#039;}}, TRANSACTION: {direction: &#039;UNDIRECTED&#039;, properties: {amount: &#039;Float (DefaultValue(NaN), PERSISTENT, Aggregation.NONE)&#039;, is_fraud_num: &#039;Float (DefaultValue(NaN), PERSISTENT, Aggregation.NONE)&#039;}}}}</td></tr></table>"
      ],
      "text/plain": [
       " graphName      | database | databaseLocation | memoryUsage | sizeInBytes | nodeCount | relationshipCount | configuration                                                                                                                                                                                                                                                                                                                                                                                                                                                                                                                                                                                                                                                                                                                                                                                                                                                                                                   |                density | creationTime                                    | modificationTime                                | schema                                                                                                                                                                                                                                                                                                                                                                                            | schemaWithOrientation                                                                                                                                                                                                                                                                                                                                                                                                                                                           \n",
       "----------------|----------|------------------|-------------|-------------|-----------|-------------------|-----------------------------------------------------------------------------------------------------------------------------------------------------------------------------------------------------------------------------------------------------------------------------------------------------------------------------------------------------------------------------------------------------------------------------------------------------------------------------------------------------------------------------------------------------------------------------------------------------------------------------------------------------------------------------------------------------------------------------------------------------------------------------------------------------------------------------------------------------------------------------------------------------------------|------------------------|-------------------------------------------------|-------------------------------------------------|---------------------------------------------------------------------------------------------------------------------------------------------------------------------------------------------------------------------------------------------------------------------------------------------------------------------------------------------------------------------------------------------------|---------------------------------------------------------------------------------------------------------------------------------------------------------------------------------------------------------------------------------------------------------------------------------------------------------------------------------------------------------------------------------------------------------------------------------------------------------------------------------\n",
       " triangle_graph | neo4j    | local            |             |          -1 |    193127 |            400276 | {relationshipProjection: {TRANSFERS_TO: {aggregation: 'DEFAULT', orientation: 'UNDIRECTED', indexInverse: false, properties: {tx_count: {aggregation: 'DEFAULT', property: 'tx_count', defaultValue: null}, fraud_ratio: {aggregation: 'DEFAULT', property: 'fraud_ratio', defaultValue: null}}, type: 'TRANSFERS_TO'}, TRANSACTION: {aggregation: 'DEFAULT', orientation: 'UNDIRECTED', indexInverse: false, properties: {amount: {aggregation: 'DEFAULT', property: 'amount', defaultValue: null}, is_fraud_num: {aggregation: 'DEFAULT', property: 'is_fraud_num', defaultValue: null}}, type: 'TRANSACTION'}}, readConcurrency: 4, relationshipProperties: {}, nodeProperties: {}, jobId: '406e6228-5d85-459c-bc6f-4a5dae5058ef', nodeProjection: {Merchant: {label: 'Merchant', properties: {}}, Client: {label: 'Client', properties: {}}}, logProgress: true, validateRelationships: false, sudo: false} | 1.0731880085257908e-05 | datetime('2025-03-02T19:20:07.450111400+05:30') | datetime('2025-03-02T19:20:07.450111400+05:30') | {graphProperties: {}, nodes: {Merchant: {}, Client: {}}, relationships: {TRANSFERS_TO: {tx_count: 'Float (DefaultValue(NaN), PERSISTENT, Aggregation.NONE)', fraud_ratio: 'Float (DefaultValue(NaN), PERSISTENT, Aggregation.NONE)'}, TRANSACTION: {amount: 'Float (DefaultValue(NaN), PERSISTENT, Aggregation.NONE)', is_fraud_num: 'Float (DefaultValue(NaN), PERSISTENT, Aggregation.NONE)'}}} | {graphProperties: {}, nodes: {Merchant: {}, Client: {}}, relationships: {TRANSFERS_TO: {direction: 'UNDIRECTED', properties: {tx_count: 'Float (DefaultValue(NaN), PERSISTENT, Aggregation.NONE)', fraud_ratio: 'Float (DefaultValue(NaN), PERSISTENT, Aggregation.NONE)'}}, TRANSACTION: {direction: 'UNDIRECTED', properties: {amount: 'Float (DefaultValue(NaN), PERSISTENT, Aggregation.NONE)', is_fraud_num: 'Float (DefaultValue(NaN), PERSISTENT, Aggregation.NONE)'}}}} "
      ]
     },
     "execution_count": 77,
     "metadata": {},
     "output_type": "execute_result"
    }
   ],
   "source": [
    "# Drop the projected graph\n",
    "graph.run(\"CALL gds.graph.drop('pagerank_graph')\")\n",
    "graph.run(\"CALL gds.graph.drop('triangle_graph')\")"
   ]
  },
  {
   "cell_type": "code",
   "execution_count": 81,
   "metadata": {},
   "outputs": [],
   "source": [
    "# Extract graph features for ML\n",
    "query = \"\"\"\n",
    "    MATCH (source)-[tx:TRANSACTION]->(target)\n",
    "    // Entity features\n",
    "    WITH source, target, tx,\n",
    "         source.pagerank_score AS source_pagerank,\n",
    "         target.pagerank_score AS target_pagerank,\n",
    "         source.betweenness_centrality AS source_betweenness,\n",
    "         target.betweenness_centrality AS target_betweenness,\n",
    "         source.triangle_count AS source_triangle_count,\n",
    "         target.triangle_count AS target_triangle_count,\n",
    "         source.louvain_community AS source_community,\n",
    "         target.louvain_community AS target_community,\n",
    "         source.lpa_community AS source_lpa_community,\n",
    "         target.lpa_community AS target_lpa_community,\n",
    "         source.outgoing_tx_count AS source_out_degree,\n",
    "         source.incoming_tx_count AS source_in_degree,\n",
    "         source.outgoing_fraud_ratio AS source_fraud_ratio,\n",
    "         target.incoming_fraud_ratio AS target_fraud_ratio,\n",
    "         source.outgoing_total AS source_out_amount,\n",
    "         target.incoming_total AS target_in_amount,\n",
    "         CASE WHEN source:Client THEN 1 ELSE 0 END AS source_is_client,\n",
    "         CASE WHEN target:Client THEN 1 ELSE 0 END AS target_is_client\n",
    "         \n",
    "    // Transaction features\n",
    "    RETURN tx.tx_id AS transaction_id,\n",
    "           tx.type AS transaction_type,\n",
    "           tx.amount AS amount,\n",
    "           tx.orig_old_balance AS orig_old_balance,\n",
    "           tx.orig_new_balance AS orig_new_balance,\n",
    "           tx.step AS step,\n",
    "           tx.is_fraud AS is_fraud,\n",
    "           \n",
    "           // Graph-based features\n",
    "           source_pagerank,\n",
    "           target_pagerank,\n",
    "           source_betweenness,\n",
    "           target_betweenness,\n",
    "           source_triangle_count,\n",
    "           target_triangle_count,\n",
    "           (source_community = target_community) AS same_community,\n",
    "           (source_lpa_community = target_lpa_community) AS same_lpa_community,\n",
    "           source_out_degree,\n",
    "           source_in_degree,\n",
    "           target.outgoing_tx_count AS target_out_degree,\n",
    "           target.incoming_tx_count AS target_in_degree,\n",
    "           source_fraud_ratio,\n",
    "           target_fraud_ratio,\n",
    "           source_out_amount,\n",
    "           target_in_amount,\n",
    "           source_is_client,\n",
    "           target_is_client,\n",
    "           \n",
    "           // Derived features\n",
    "           abs(source_pagerank - target_pagerank) AS pagerank_diff,\n",
    "           abs(source_betweenness - target_betweenness) AS betweenness_diff,\n",
    "           tx.amount / (CASE WHEN source_out_amount = 0 THEN 1 ELSE source_out_amount END) AS amount_out_ratio,\n",
    "           tx.amount / (CASE WHEN target_in_amount = 0 THEN 1 ELSE target_in_amount END) AS amount_in_ratio,\n",
    "           (tx.orig_new_balance - tx.orig_old_balance) AS balance_diff_orig,\n",
    "           tx.amount - tx.orig_old_balance AS amount_vs_balance\n",
    "    \"\"\""
   ]
  },
  {
   "cell_type": "code",
   "execution_count": 82,
   "metadata": {},
   "outputs": [
    {
     "name": "stdout",
     "output_type": "stream",
     "text": [
      "Extracted 100069 transactions with 31 features\n"
     ]
    }
   ],
   "source": [
    "# Execute the query and convert to DataFrame\n",
    "result = graph.run(query)\n",
    "features_df = pd.DataFrame(result.data())\n",
    "\n",
    "print(f\"Extracted {len(features_df)} transactions with {features_df.shape[1]} features\")"
   ]
  },
  {
   "cell_type": "code",
   "execution_count": 83,
   "metadata": {},
   "outputs": [
    {
     "data": {
      "text/html": [
       "<div>\n",
       "<style scoped>\n",
       "    .dataframe tbody tr th:only-of-type {\n",
       "        vertical-align: middle;\n",
       "    }\n",
       "\n",
       "    .dataframe tbody tr th {\n",
       "        vertical-align: top;\n",
       "    }\n",
       "\n",
       "    .dataframe thead th {\n",
       "        text-align: right;\n",
       "    }\n",
       "</style>\n",
       "<table border=\"1\" class=\"dataframe\">\n",
       "  <thead>\n",
       "    <tr style=\"text-align: right;\">\n",
       "      <th></th>\n",
       "      <th>transaction_id</th>\n",
       "      <th>transaction_type</th>\n",
       "      <th>amount</th>\n",
       "      <th>orig_old_balance</th>\n",
       "      <th>orig_new_balance</th>\n",
       "      <th>step</th>\n",
       "      <th>is_fraud</th>\n",
       "      <th>source_pagerank</th>\n",
       "      <th>target_pagerank</th>\n",
       "      <th>source_betweenness</th>\n",
       "      <th>...</th>\n",
       "      <th>source_out_amount</th>\n",
       "      <th>target_in_amount</th>\n",
       "      <th>source_is_client</th>\n",
       "      <th>target_is_client</th>\n",
       "      <th>pagerank_diff</th>\n",
       "      <th>betweenness_diff</th>\n",
       "      <th>amount_out_ratio</th>\n",
       "      <th>amount_in_ratio</th>\n",
       "      <th>balance_diff_orig</th>\n",
       "      <th>amount_vs_balance</th>\n",
       "    </tr>\n",
       "  </thead>\n",
       "  <tbody>\n",
       "    <tr>\n",
       "      <th>0</th>\n",
       "      <td>4047088</td>\n",
       "      <td>CASH_OUT</td>\n",
       "      <td>417428.35</td>\n",
       "      <td>2549.00</td>\n",
       "      <td>0.00</td>\n",
       "      <td>300</td>\n",
       "      <td>False</td>\n",
       "      <td>0.15</td>\n",
       "      <td>0.2775</td>\n",
       "      <td>0.0</td>\n",
       "      <td>...</td>\n",
       "      <td>417428.35</td>\n",
       "      <td>417428.35</td>\n",
       "      <td>1</td>\n",
       "      <td>1</td>\n",
       "      <td>0.1275</td>\n",
       "      <td>0.0</td>\n",
       "      <td>1.0</td>\n",
       "      <td>1.000000</td>\n",
       "      <td>-2549.00</td>\n",
       "      <td>414879.35</td>\n",
       "    </tr>\n",
       "    <tr>\n",
       "      <th>1</th>\n",
       "      <td>694855</td>\n",
       "      <td>CASH_OUT</td>\n",
       "      <td>175348.73</td>\n",
       "      <td>0.00</td>\n",
       "      <td>0.00</td>\n",
       "      <td>36</td>\n",
       "      <td>False</td>\n",
       "      <td>0.15</td>\n",
       "      <td>0.4050</td>\n",
       "      <td>0.0</td>\n",
       "      <td>...</td>\n",
       "      <td>175348.73</td>\n",
       "      <td>218591.36</td>\n",
       "      <td>1</td>\n",
       "      <td>1</td>\n",
       "      <td>0.2550</td>\n",
       "      <td>0.0</td>\n",
       "      <td>1.0</td>\n",
       "      <td>0.802176</td>\n",
       "      <td>0.00</td>\n",
       "      <td>175348.73</td>\n",
       "    </tr>\n",
       "    <tr>\n",
       "      <th>2</th>\n",
       "      <td>6120085</td>\n",
       "      <td>CASH_IN</td>\n",
       "      <td>176788.09</td>\n",
       "      <td>6650248.84</td>\n",
       "      <td>6827036.93</td>\n",
       "      <td>538</td>\n",
       "      <td>False</td>\n",
       "      <td>0.15</td>\n",
       "      <td>0.2775</td>\n",
       "      <td>0.0</td>\n",
       "      <td>...</td>\n",
       "      <td>176788.09</td>\n",
       "      <td>176788.09</td>\n",
       "      <td>1</td>\n",
       "      <td>1</td>\n",
       "      <td>0.1275</td>\n",
       "      <td>0.0</td>\n",
       "      <td>1.0</td>\n",
       "      <td>1.000000</td>\n",
       "      <td>176788.09</td>\n",
       "      <td>-6473460.75</td>\n",
       "    </tr>\n",
       "    <tr>\n",
       "      <th>3</th>\n",
       "      <td>2581358</td>\n",
       "      <td>CASH_IN</td>\n",
       "      <td>442721.17</td>\n",
       "      <td>1431265.03</td>\n",
       "      <td>1873986.20</td>\n",
       "      <td>207</td>\n",
       "      <td>False</td>\n",
       "      <td>0.15</td>\n",
       "      <td>0.4050</td>\n",
       "      <td>0.0</td>\n",
       "      <td>...</td>\n",
       "      <td>442721.17</td>\n",
       "      <td>586291.64</td>\n",
       "      <td>1</td>\n",
       "      <td>1</td>\n",
       "      <td>0.2550</td>\n",
       "      <td>0.0</td>\n",
       "      <td>1.0</td>\n",
       "      <td>0.755121</td>\n",
       "      <td>442721.17</td>\n",
       "      <td>-988543.86</td>\n",
       "    </tr>\n",
       "    <tr>\n",
       "      <th>4</th>\n",
       "      <td>5955036</td>\n",
       "      <td>CASH_IN</td>\n",
       "      <td>399771.18</td>\n",
       "      <td>1199497.32</td>\n",
       "      <td>1599268.50</td>\n",
       "      <td>405</td>\n",
       "      <td>False</td>\n",
       "      <td>0.15</td>\n",
       "      <td>0.2775</td>\n",
       "      <td>0.0</td>\n",
       "      <td>...</td>\n",
       "      <td>399771.18</td>\n",
       "      <td>399771.18</td>\n",
       "      <td>1</td>\n",
       "      <td>1</td>\n",
       "      <td>0.1275</td>\n",
       "      <td>0.0</td>\n",
       "      <td>1.0</td>\n",
       "      <td>1.000000</td>\n",
       "      <td>399771.18</td>\n",
       "      <td>-799726.14</td>\n",
       "    </tr>\n",
       "    <tr>\n",
       "      <th>5</th>\n",
       "      <td>5352088</td>\n",
       "      <td>PAYMENT</td>\n",
       "      <td>25164.11</td>\n",
       "      <td>0.00</td>\n",
       "      <td>0.00</td>\n",
       "      <td>375</td>\n",
       "      <td>False</td>\n",
       "      <td>0.15</td>\n",
       "      <td>0.2775</td>\n",
       "      <td>0.0</td>\n",
       "      <td>...</td>\n",
       "      <td>25164.11</td>\n",
       "      <td>25164.11</td>\n",
       "      <td>1</td>\n",
       "      <td>0</td>\n",
       "      <td>0.1275</td>\n",
       "      <td>0.0</td>\n",
       "      <td>1.0</td>\n",
       "      <td>1.000000</td>\n",
       "      <td>0.00</td>\n",
       "      <td>25164.11</td>\n",
       "    </tr>\n",
       "    <tr>\n",
       "      <th>6</th>\n",
       "      <td>2559550</td>\n",
       "      <td>TRANSFER</td>\n",
       "      <td>1300968.10</td>\n",
       "      <td>0.00</td>\n",
       "      <td>0.00</td>\n",
       "      <td>206</td>\n",
       "      <td>False</td>\n",
       "      <td>0.15</td>\n",
       "      <td>0.2775</td>\n",
       "      <td>0.0</td>\n",
       "      <td>...</td>\n",
       "      <td>1300968.10</td>\n",
       "      <td>1300968.10</td>\n",
       "      <td>1</td>\n",
       "      <td>1</td>\n",
       "      <td>0.1275</td>\n",
       "      <td>0.0</td>\n",
       "      <td>1.0</td>\n",
       "      <td>1.000000</td>\n",
       "      <td>0.00</td>\n",
       "      <td>1300968.10</td>\n",
       "    </tr>\n",
       "    <tr>\n",
       "      <th>7</th>\n",
       "      <td>2427231</td>\n",
       "      <td>PAYMENT</td>\n",
       "      <td>2985.32</td>\n",
       "      <td>0.00</td>\n",
       "      <td>0.00</td>\n",
       "      <td>202</td>\n",
       "      <td>False</td>\n",
       "      <td>0.15</td>\n",
       "      <td>0.2775</td>\n",
       "      <td>0.0</td>\n",
       "      <td>...</td>\n",
       "      <td>2985.32</td>\n",
       "      <td>2985.32</td>\n",
       "      <td>1</td>\n",
       "      <td>0</td>\n",
       "      <td>0.1275</td>\n",
       "      <td>0.0</td>\n",
       "      <td>1.0</td>\n",
       "      <td>1.000000</td>\n",
       "      <td>0.00</td>\n",
       "      <td>2985.32</td>\n",
       "    </tr>\n",
       "    <tr>\n",
       "      <th>8</th>\n",
       "      <td>5158647</td>\n",
       "      <td>CASH_OUT</td>\n",
       "      <td>55376.25</td>\n",
       "      <td>55582.00</td>\n",
       "      <td>205.75</td>\n",
       "      <td>357</td>\n",
       "      <td>False</td>\n",
       "      <td>0.15</td>\n",
       "      <td>0.5325</td>\n",
       "      <td>0.0</td>\n",
       "      <td>...</td>\n",
       "      <td>55376.25</td>\n",
       "      <td>928326.05</td>\n",
       "      <td>1</td>\n",
       "      <td>1</td>\n",
       "      <td>0.3825</td>\n",
       "      <td>0.0</td>\n",
       "      <td>1.0</td>\n",
       "      <td>0.059652</td>\n",
       "      <td>-55376.25</td>\n",
       "      <td>-205.75</td>\n",
       "    </tr>\n",
       "    <tr>\n",
       "      <th>9</th>\n",
       "      <td>3151391</td>\n",
       "      <td>PAYMENT</td>\n",
       "      <td>7841.65</td>\n",
       "      <td>0.00</td>\n",
       "      <td>0.00</td>\n",
       "      <td>237</td>\n",
       "      <td>False</td>\n",
       "      <td>0.15</td>\n",
       "      <td>0.2775</td>\n",
       "      <td>0.0</td>\n",
       "      <td>...</td>\n",
       "      <td>7841.65</td>\n",
       "      <td>7841.65</td>\n",
       "      <td>1</td>\n",
       "      <td>0</td>\n",
       "      <td>0.1275</td>\n",
       "      <td>0.0</td>\n",
       "      <td>1.0</td>\n",
       "      <td>1.000000</td>\n",
       "      <td>0.00</td>\n",
       "      <td>7841.65</td>\n",
       "    </tr>\n",
       "  </tbody>\n",
       "</table>\n",
       "<p>10 rows × 31 columns</p>\n",
       "</div>"
      ],
      "text/plain": [
       "   transaction_id transaction_type      amount  orig_old_balance  \\\n",
       "0         4047088         CASH_OUT   417428.35           2549.00   \n",
       "1          694855         CASH_OUT   175348.73              0.00   \n",
       "2         6120085          CASH_IN   176788.09        6650248.84   \n",
       "3         2581358          CASH_IN   442721.17        1431265.03   \n",
       "4         5955036          CASH_IN   399771.18        1199497.32   \n",
       "5         5352088          PAYMENT    25164.11              0.00   \n",
       "6         2559550         TRANSFER  1300968.10              0.00   \n",
       "7         2427231          PAYMENT     2985.32              0.00   \n",
       "8         5158647         CASH_OUT    55376.25          55582.00   \n",
       "9         3151391          PAYMENT     7841.65              0.00   \n",
       "\n",
       "   orig_new_balance  step  is_fraud  source_pagerank  target_pagerank  \\\n",
       "0              0.00   300     False             0.15           0.2775   \n",
       "1              0.00    36     False             0.15           0.4050   \n",
       "2        6827036.93   538     False             0.15           0.2775   \n",
       "3        1873986.20   207     False             0.15           0.4050   \n",
       "4        1599268.50   405     False             0.15           0.2775   \n",
       "5              0.00   375     False             0.15           0.2775   \n",
       "6              0.00   206     False             0.15           0.2775   \n",
       "7              0.00   202     False             0.15           0.2775   \n",
       "8            205.75   357     False             0.15           0.5325   \n",
       "9              0.00   237     False             0.15           0.2775   \n",
       "\n",
       "   source_betweenness  ...  source_out_amount  target_in_amount  \\\n",
       "0                 0.0  ...          417428.35         417428.35   \n",
       "1                 0.0  ...          175348.73         218591.36   \n",
       "2                 0.0  ...          176788.09         176788.09   \n",
       "3                 0.0  ...          442721.17         586291.64   \n",
       "4                 0.0  ...          399771.18         399771.18   \n",
       "5                 0.0  ...           25164.11          25164.11   \n",
       "6                 0.0  ...         1300968.10        1300968.10   \n",
       "7                 0.0  ...            2985.32           2985.32   \n",
       "8                 0.0  ...           55376.25         928326.05   \n",
       "9                 0.0  ...            7841.65           7841.65   \n",
       "\n",
       "   source_is_client  target_is_client  pagerank_diff  betweenness_diff  \\\n",
       "0                 1                 1         0.1275               0.0   \n",
       "1                 1                 1         0.2550               0.0   \n",
       "2                 1                 1         0.1275               0.0   \n",
       "3                 1                 1         0.2550               0.0   \n",
       "4                 1                 1         0.1275               0.0   \n",
       "5                 1                 0         0.1275               0.0   \n",
       "6                 1                 1         0.1275               0.0   \n",
       "7                 1                 0         0.1275               0.0   \n",
       "8                 1                 1         0.3825               0.0   \n",
       "9                 1                 0         0.1275               0.0   \n",
       "\n",
       "   amount_out_ratio  amount_in_ratio  balance_diff_orig  amount_vs_balance  \n",
       "0               1.0         1.000000           -2549.00          414879.35  \n",
       "1               1.0         0.802176               0.00          175348.73  \n",
       "2               1.0         1.000000          176788.09        -6473460.75  \n",
       "3               1.0         0.755121          442721.17         -988543.86  \n",
       "4               1.0         1.000000          399771.18         -799726.14  \n",
       "5               1.0         1.000000               0.00           25164.11  \n",
       "6               1.0         1.000000               0.00         1300968.10  \n",
       "7               1.0         1.000000               0.00            2985.32  \n",
       "8               1.0         0.059652          -55376.25            -205.75  \n",
       "9               1.0         1.000000               0.00            7841.65  \n",
       "\n",
       "[10 rows x 31 columns]"
      ]
     },
     "execution_count": 83,
     "metadata": {},
     "output_type": "execute_result"
    }
   ],
   "source": [
    "# Handle missing values\n",
    "features_df = features_df.fillna(0)\n",
    "features_df.head(10)"
   ]
  },
  {
   "cell_type": "code",
   "execution_count": 84,
   "metadata": {},
   "outputs": [],
   "source": [
    "# One-hot encode categorical variables\n",
    "if 'transaction_type' in features_df.columns:\n",
    "    transaction_type_dummies = pd.get_dummies(features_df['transaction_type'], prefix='type')\n",
    "    features_df = pd.concat([features_df, transaction_type_dummies], axis=1)\n",
    "    features_df.drop('transaction_type', axis=1, inplace=True)"
   ]
  },
  {
   "cell_type": "code",
   "execution_count": 85,
   "metadata": {},
   "outputs": [
    {
     "data": {
      "text/html": [
       "<div>\n",
       "<style scoped>\n",
       "    .dataframe tbody tr th:only-of-type {\n",
       "        vertical-align: middle;\n",
       "    }\n",
       "\n",
       "    .dataframe tbody tr th {\n",
       "        vertical-align: top;\n",
       "    }\n",
       "\n",
       "    .dataframe thead th {\n",
       "        text-align: right;\n",
       "    }\n",
       "</style>\n",
       "<table border=\"1\" class=\"dataframe\">\n",
       "  <thead>\n",
       "    <tr style=\"text-align: right;\">\n",
       "      <th></th>\n",
       "      <th>transaction_id</th>\n",
       "      <th>amount</th>\n",
       "      <th>orig_old_balance</th>\n",
       "      <th>orig_new_balance</th>\n",
       "      <th>step</th>\n",
       "      <th>is_fraud</th>\n",
       "      <th>source_pagerank</th>\n",
       "      <th>target_pagerank</th>\n",
       "      <th>source_betweenness</th>\n",
       "      <th>target_betweenness</th>\n",
       "      <th>...</th>\n",
       "      <th>betweenness_diff</th>\n",
       "      <th>amount_out_ratio</th>\n",
       "      <th>amount_in_ratio</th>\n",
       "      <th>balance_diff_orig</th>\n",
       "      <th>amount_vs_balance</th>\n",
       "      <th>type_CASH_IN</th>\n",
       "      <th>type_CASH_OUT</th>\n",
       "      <th>type_DEBIT</th>\n",
       "      <th>type_PAYMENT</th>\n",
       "      <th>type_TRANSFER</th>\n",
       "    </tr>\n",
       "  </thead>\n",
       "  <tbody>\n",
       "    <tr>\n",
       "      <th>0</th>\n",
       "      <td>4047088</td>\n",
       "      <td>417428.35</td>\n",
       "      <td>2549.00</td>\n",
       "      <td>0.00</td>\n",
       "      <td>300</td>\n",
       "      <td>False</td>\n",
       "      <td>0.15</td>\n",
       "      <td>0.2775</td>\n",
       "      <td>0.0</td>\n",
       "      <td>0.0</td>\n",
       "      <td>...</td>\n",
       "      <td>0.0</td>\n",
       "      <td>1.0</td>\n",
       "      <td>1.000000</td>\n",
       "      <td>-2549.00</td>\n",
       "      <td>414879.35</td>\n",
       "      <td>False</td>\n",
       "      <td>True</td>\n",
       "      <td>False</td>\n",
       "      <td>False</td>\n",
       "      <td>False</td>\n",
       "    </tr>\n",
       "    <tr>\n",
       "      <th>1</th>\n",
       "      <td>694855</td>\n",
       "      <td>175348.73</td>\n",
       "      <td>0.00</td>\n",
       "      <td>0.00</td>\n",
       "      <td>36</td>\n",
       "      <td>False</td>\n",
       "      <td>0.15</td>\n",
       "      <td>0.4050</td>\n",
       "      <td>0.0</td>\n",
       "      <td>0.0</td>\n",
       "      <td>...</td>\n",
       "      <td>0.0</td>\n",
       "      <td>1.0</td>\n",
       "      <td>0.802176</td>\n",
       "      <td>0.00</td>\n",
       "      <td>175348.73</td>\n",
       "      <td>False</td>\n",
       "      <td>True</td>\n",
       "      <td>False</td>\n",
       "      <td>False</td>\n",
       "      <td>False</td>\n",
       "    </tr>\n",
       "    <tr>\n",
       "      <th>2</th>\n",
       "      <td>6120085</td>\n",
       "      <td>176788.09</td>\n",
       "      <td>6650248.84</td>\n",
       "      <td>6827036.93</td>\n",
       "      <td>538</td>\n",
       "      <td>False</td>\n",
       "      <td>0.15</td>\n",
       "      <td>0.2775</td>\n",
       "      <td>0.0</td>\n",
       "      <td>0.0</td>\n",
       "      <td>...</td>\n",
       "      <td>0.0</td>\n",
       "      <td>1.0</td>\n",
       "      <td>1.000000</td>\n",
       "      <td>176788.09</td>\n",
       "      <td>-6473460.75</td>\n",
       "      <td>True</td>\n",
       "      <td>False</td>\n",
       "      <td>False</td>\n",
       "      <td>False</td>\n",
       "      <td>False</td>\n",
       "    </tr>\n",
       "    <tr>\n",
       "      <th>3</th>\n",
       "      <td>2581358</td>\n",
       "      <td>442721.17</td>\n",
       "      <td>1431265.03</td>\n",
       "      <td>1873986.20</td>\n",
       "      <td>207</td>\n",
       "      <td>False</td>\n",
       "      <td>0.15</td>\n",
       "      <td>0.4050</td>\n",
       "      <td>0.0</td>\n",
       "      <td>0.0</td>\n",
       "      <td>...</td>\n",
       "      <td>0.0</td>\n",
       "      <td>1.0</td>\n",
       "      <td>0.755121</td>\n",
       "      <td>442721.17</td>\n",
       "      <td>-988543.86</td>\n",
       "      <td>True</td>\n",
       "      <td>False</td>\n",
       "      <td>False</td>\n",
       "      <td>False</td>\n",
       "      <td>False</td>\n",
       "    </tr>\n",
       "    <tr>\n",
       "      <th>4</th>\n",
       "      <td>5955036</td>\n",
       "      <td>399771.18</td>\n",
       "      <td>1199497.32</td>\n",
       "      <td>1599268.50</td>\n",
       "      <td>405</td>\n",
       "      <td>False</td>\n",
       "      <td>0.15</td>\n",
       "      <td>0.2775</td>\n",
       "      <td>0.0</td>\n",
       "      <td>0.0</td>\n",
       "      <td>...</td>\n",
       "      <td>0.0</td>\n",
       "      <td>1.0</td>\n",
       "      <td>1.000000</td>\n",
       "      <td>399771.18</td>\n",
       "      <td>-799726.14</td>\n",
       "      <td>True</td>\n",
       "      <td>False</td>\n",
       "      <td>False</td>\n",
       "      <td>False</td>\n",
       "      <td>False</td>\n",
       "    </tr>\n",
       "  </tbody>\n",
       "</table>\n",
       "<p>5 rows × 35 columns</p>\n",
       "</div>"
      ],
      "text/plain": [
       "   transaction_id     amount  orig_old_balance  orig_new_balance  step  \\\n",
       "0         4047088  417428.35           2549.00              0.00   300   \n",
       "1          694855  175348.73              0.00              0.00    36   \n",
       "2         6120085  176788.09        6650248.84        6827036.93   538   \n",
       "3         2581358  442721.17        1431265.03        1873986.20   207   \n",
       "4         5955036  399771.18        1199497.32        1599268.50   405   \n",
       "\n",
       "   is_fraud  source_pagerank  target_pagerank  source_betweenness  \\\n",
       "0     False             0.15           0.2775                 0.0   \n",
       "1     False             0.15           0.4050                 0.0   \n",
       "2     False             0.15           0.2775                 0.0   \n",
       "3     False             0.15           0.4050                 0.0   \n",
       "4     False             0.15           0.2775                 0.0   \n",
       "\n",
       "   target_betweenness  ...  betweenness_diff  amount_out_ratio  \\\n",
       "0                 0.0  ...               0.0               1.0   \n",
       "1                 0.0  ...               0.0               1.0   \n",
       "2                 0.0  ...               0.0               1.0   \n",
       "3                 0.0  ...               0.0               1.0   \n",
       "4                 0.0  ...               0.0               1.0   \n",
       "\n",
       "   amount_in_ratio  balance_diff_orig  amount_vs_balance  type_CASH_IN  \\\n",
       "0         1.000000           -2549.00          414879.35         False   \n",
       "1         0.802176               0.00          175348.73         False   \n",
       "2         1.000000          176788.09        -6473460.75          True   \n",
       "3         0.755121          442721.17         -988543.86          True   \n",
       "4         1.000000          399771.18         -799726.14          True   \n",
       "\n",
       "   type_CASH_OUT  type_DEBIT  type_PAYMENT  type_TRANSFER  \n",
       "0           True       False         False          False  \n",
       "1           True       False         False          False  \n",
       "2          False       False         False          False  \n",
       "3          False       False         False          False  \n",
       "4          False       False         False          False  \n",
       "\n",
       "[5 rows x 35 columns]"
      ]
     },
     "execution_count": 85,
     "metadata": {},
     "output_type": "execute_result"
    }
   ],
   "source": [
    "features_df.head()"
   ]
  },
  {
   "cell_type": "code",
   "execution_count": 86,
   "metadata": {},
   "outputs": [
    {
     "name": "stdout",
     "output_type": "stream",
     "text": [
      "Class distribution: is_fraud\n",
      "False    91856\n",
      "True      8213\n",
      "Name: count, dtype: int64\n"
     ]
    }
   ],
   "source": [
    "X = features_df.drop(['transaction_id', 'is_fraud'], axis=1, errors='ignore')\n",
    "y = features_df['is_fraud']\n",
    "\n",
    "print(f\"Class distribution: {y.value_counts()}\")"
   ]
  },
  {
   "cell_type": "code",
   "execution_count": 87,
   "metadata": {},
   "outputs": [],
   "source": [
    "from sklearn.model_selection import train_test_split\n",
    "\n",
    "# Train-test split\n",
    "X_train, X_test, y_train, y_test = train_test_split(X, y, test_size=0.25, random_state=42, stratify=y)"
   ]
  },
  {
   "cell_type": "code",
   "execution_count": 88,
   "metadata": {},
   "outputs": [],
   "source": [
    "from sklearn.preprocessing import StandardScaler\n",
    "\n",
    "# Feature scaling\n",
    "scaler = StandardScaler()\n",
    "X_train_scaled = scaler.fit_transform(X_train)\n",
    "X_test_scaled = scaler.transform(X_test)"
   ]
  },
  {
   "cell_type": "code",
   "execution_count": null,
   "metadata": {},
   "outputs": [],
   "source": [
    "from sklearn.ensemble import RandomForestClassifier, GradientBoostingClassifier\n",
    "from sklearn.linear_model import LogisticRegression\n",
    "\n",
    "models = {\n",
    "    'Logistic Regression': LogisticRegression(class_weight='balanced', max_iter=1000, random_state=42),\n",
    "    'Random Forest': RandomForestClassifier(n_estimators=100, class_weight='balanced', random_state=42),\n",
    "    'Gradient Boosting': GradientBoostingClassifier(n_estimators=100, random_state=42)\n",
    "}"
   ]
  },
  {
   "cell_type": "code",
   "execution_count": 90,
   "metadata": {},
   "outputs": [
    {
     "name": "stdout",
     "output_type": "stream",
     "text": [
      "\n",
      "Training Logistic Regression...\n",
      "Accuracy: 1.0000\n",
      "AUC-ROC: 1.0000\n",
      "Classification Report:\n",
      "              precision    recall  f1-score   support\n",
      "\n",
      "       False       1.00      1.00      1.00     22965\n",
      "        True       1.00      1.00      1.00      2053\n",
      "\n",
      "    accuracy                           1.00     25018\n",
      "   macro avg       1.00      1.00      1.00     25018\n",
      "weighted avg       1.00      1.00      1.00     25018\n",
      "\n",
      "Confusion Matrix:\n",
      "[[22965     0]\n",
      " [    0  2053]]\n",
      "\n",
      "Training Random Forest...\n",
      "Accuracy: 1.0000\n",
      "AUC-ROC: 1.0000\n",
      "Classification Report:\n",
      "              precision    recall  f1-score   support\n",
      "\n",
      "       False       1.00      1.00      1.00     22965\n",
      "        True       1.00      1.00      1.00      2053\n",
      "\n",
      "    accuracy                           1.00     25018\n",
      "   macro avg       1.00      1.00      1.00     25018\n",
      "weighted avg       1.00      1.00      1.00     25018\n",
      "\n",
      "Confusion Matrix:\n",
      "[[22965     0]\n",
      " [    0  2053]]\n",
      "\n",
      "Top 10 important features:\n",
      "               feature  importance\n",
      "17  target_fraud_ratio    0.260091\n",
      "16  source_fraud_ratio    0.250245\n",
      "26   balance_diff_orig    0.143720\n",
      "27   amount_vs_balance    0.121425\n",
      "2     orig_new_balance    0.048848\n",
      "1     orig_old_balance    0.039382\n",
      "18   source_out_amount    0.029565\n",
      "0               amount    0.029534\n",
      "32       type_TRANSFER    0.023372\n",
      "21    target_is_client    0.013237\n"
     ]
    },
    {
     "data": {
      "image/png": "[encoded data removed]",
      "text/plain": [
       "<Figure size 1200x800 with 1 Axes>"
      ]
     },
     "metadata": {},
     "output_type": "display_data"
    },
    {
     "name": "stdout",
     "output_type": "stream",
     "text": [
      "\n",
      "Training Gradient Boosting...\n",
      "Accuracy: 1.0000\n",
      "AUC-ROC: 1.0000\n",
      "Classification Report:\n",
      "              precision    recall  f1-score   support\n",
      "\n",
      "       False       1.00      1.00      1.00     22965\n",
      "        True       1.00      1.00      1.00      2053\n",
      "\n",
      "    accuracy                           1.00     25018\n",
      "   macro avg       1.00      1.00      1.00     25018\n",
      "weighted avg       1.00      1.00      1.00     25018\n",
      "\n",
      "Confusion Matrix:\n",
      "[[22965     0]\n",
      " [    0  2053]]\n",
      "\n",
      "Top 10 important features:\n",
      "               feature    importance\n",
      "16  source_fraud_ratio  9.994697e-01\n",
      "11  same_lpa_community  3.842489e-04\n",
      "17  target_fraud_ratio  1.460529e-04\n",
      "18   source_out_amount  5.067169e-14\n",
      "19    target_in_amount  2.320820e-15\n",
      "26   balance_diff_orig  2.989075e-16\n",
      "24    amount_out_ratio  0.000000e+00\n",
      "2     orig_new_balance  0.000000e+00\n",
      "3                 step  0.000000e+00\n",
      "12   source_out_degree  0.000000e+00\n"
     ]
    },
    {
     "data": {
      "image/png": "[encoded data removed]",
      "text/plain": [
       "<Figure size 1200x800 with 1 Axes>"
      ]
     },
     "metadata": {},
     "output_type": "display_data"
    }
   ],
   "source": [
    "from sklearn.metrics import classification_report, confusion_matrix, roc_auc_score, precision_recall_curve\n",
    "\n",
    "results = {}\n",
    "\n",
    "for name, model in models.items():\n",
    "        print(f\"\\nTraining {name}...\")\n",
    "        model.fit(X_train_scaled, y_train)\n",
    "        \n",
    "        # Predictions\n",
    "        y_pred = model.predict(X_test_scaled)\n",
    "        y_prob = model.predict_proba(X_test_scaled)[:, 1]\n",
    "        \n",
    "        # Evaluation\n",
    "        accuracy = model.score(X_test_scaled, y_test)\n",
    "        auc = roc_auc_score(y_test, y_prob)\n",
    "        \n",
    "        print(f\"Accuracy: {accuracy:.4f}\")\n",
    "        print(f\"AUC-ROC: {auc:.4f}\")\n",
    "        print(f\"Classification Report:\\n{classification_report(y_test, y_pred)}\")\n",
    "        print(f\"Confusion Matrix:\\n{confusion_matrix(y_test, y_pred)}\")\n",
    "        \n",
    "        results[name] = {\n",
    "            'model': model,\n",
    "            'accuracy': accuracy,\n",
    "            'auc': auc,\n",
    "            'y_pred': y_pred,\n",
    "            'y_prob': y_prob\n",
    "        }\n",
    "        \n",
    "        # Feature importance (for tree-based models)\n",
    "        if hasattr(model, 'feature_importances_'):\n",
    "            feature_importance = pd.DataFrame({\n",
    "                'feature': X.columns,\n",
    "                'importance': model.feature_importances_\n",
    "            }).sort_values('importance', ascending=False)\n",
    "            \n",
    "            print(\"\\nTop 10 important features:\")\n",
    "            print(feature_importance.head(10))\n",
    "            \n",
    "            # Plot feature importance\n",
    "            plt.figure(figsize=(12, 8))\n",
    "            sns.barplot(x='importance', y='feature', data=feature_importance.head(20))\n",
    "            plt.title(f'Feature Importance - {name}')\n",
    "            plt.tight_layout()\n",
    "            plt.show()"
   ]
  },
  {
   "cell_type": "code",
   "execution_count": 91,
   "metadata": {},
   "outputs": [
    {
     "data": {
      "image/png": "[encoded data removed]",
      "text/plain": [
       "<Figure size 1000x800 with 1 Axes>"
      ]
     },
     "metadata": {},
     "output_type": "display_data"
    }
   ],
   "source": [
    "# Precision-Recall curve for all models\n",
    "plt.figure(figsize=(10, 8))\n",
    "for name, res in results.items():\n",
    "    precision, recall, _ = precision_recall_curve(y_test, res['y_prob'])\n",
    "    plt.plot(recall, precision, label=f'{name} (AUC = {res[\"auc\"]:.4f})')\n",
    "\n",
    "plt.xlabel('Recall')\n",
    "plt.ylabel('Precision')\n",
    "plt.title('Precision-Recall Curve')\n",
    "plt.legend()\n",
    "plt.grid(True)\n",
    "plt.show()"
   ]
  },
  {
   "cell_type": "code",
   "execution_count": 92,
   "metadata": {},
   "outputs": [
    {
     "name": "stdout",
     "output_type": "stream",
     "text": [
      "\n",
      "Best model: Logistic Regression with AUC = 1.0000\n"
     ]
    }
   ],
   "source": [
    "best_model_name = max(results.items(), key=lambda x: x[1]['auc'])[0]\n",
    "print(f\"\\nBest model: {best_model_name} with AUC = {results[best_model_name]['auc']:.4f}\")"
   ]
  }
 ],
 "metadata": {
  "kernelspec": {
   "display_name": "venv",
   "language": "python",
   "name": "python3"
  },
  "language_info": {
   "codemirror_mode": {
    "name": "ipython",
    "version": 3
   },
   "file_extension": ".py",
   "mimetype": "text/x-python",
   "name": "python",
   "nbconvert_exporter": "python",
   "pygments_lexer": "ipython3",
   "version": "3.11.5"
  }
 },
 "nbformat": 4,
 "nbformat_minor": 2
}
